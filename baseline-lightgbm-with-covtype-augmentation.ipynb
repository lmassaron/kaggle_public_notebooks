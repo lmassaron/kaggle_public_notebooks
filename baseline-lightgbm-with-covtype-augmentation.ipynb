{
 "cells": [
  {
   "cell_type": "code",
   "execution_count": 1,
   "id": "c756e241",
   "metadata": {
    "_cell_guid": "b1076dfc-b9ad-4769-8c92-a6c4dae69d19",
    "_uuid": "8f2839f25d086af736a60e9eeb907d3b93b6e0e5",
    "execution": {
     "iopub.execute_input": "2021-12-01T06:01:01.204323Z",
     "iopub.status.busy": "2021-12-01T06:01:01.202912Z",
     "iopub.status.idle": "2021-12-01T06:01:03.364811Z",
     "shell.execute_reply": "2021-12-01T06:01:03.364045Z",
     "shell.execute_reply.started": "2021-12-01T05:47:56.320848Z"
    },
    "papermill": {
     "duration": 2.1803,
     "end_time": "2021-12-01T06:01:03.365082",
     "exception": false,
     "start_time": "2021-12-01T06:01:01.184782",
     "status": "completed"
    },
    "tags": []
   },
   "outputs": [
    {
     "data": {
      "text/html": [
       "<style type='text/css'>\n",
       ".datatable table.frame { margin-bottom: 0; }\n",
       ".datatable table.frame thead { border-bottom: none; }\n",
       ".datatable table.frame tr.coltypes td {  color: #FFFFFF;  line-height: 6px;  padding: 0 0.5em;}\n",
       ".datatable .bool    { background: #DDDD99; }\n",
       ".datatable .object  { background: #565656; }\n",
       ".datatable .int     { background: #5D9E5D; }\n",
       ".datatable .float   { background: #4040CC; }\n",
       ".datatable .str     { background: #CC4040; }\n",
       ".datatable .time    { background: #40CC40; }\n",
       ".datatable .row_index {  background: var(--jp-border-color3);  border-right: 1px solid var(--jp-border-color0);  color: var(--jp-ui-font-color3);  font-size: 9px;}\n",
       ".datatable .frame tbody td { text-align: left; }\n",
       ".datatable .frame tr.coltypes .row_index {  background: var(--jp-border-color0);}\n",
       ".datatable th:nth-child(2) { padding-left: 12px; }\n",
       ".datatable .hellipsis {  color: var(--jp-cell-editor-border-color);}\n",
       ".datatable .vellipsis {  background: var(--jp-layout-color0);  color: var(--jp-cell-editor-border-color);}\n",
       ".datatable .na {  color: var(--jp-cell-editor-border-color);  font-size: 80%;}\n",
       ".datatable .sp {  opacity: 0.25;}\n",
       ".datatable .footer { font-size: 9px; }\n",
       ".datatable .frame_dimensions {  background: var(--jp-border-color3);  border-top: 1px solid var(--jp-border-color0);  color: var(--jp-ui-font-color3);  display: inline-block;  opacity: 0.6;  padding: 1px 10px 1px 5px;}\n",
       ".datatable .frame thead tr.colnames {  background-image: url('data:image/png;base64,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');  background-repeat: repeat-x;  background-size: 14px;  height: 28px;}\n",
       "</style>\n"
      ],
      "text/plain": [
       "<IPython.core.display.HTML object>"
      ]
     },
     "metadata": {},
     "output_type": "display_data"
    }
   ],
   "source": [
    "import numpy as np\n",
    "import pandas as pd\n",
    "import gc\n",
    "\n",
    "from sklearn.model_selection import StratifiedKFold\n",
    "import lightgbm as lgbm"
   ]
  },
  {
   "cell_type": "code",
   "execution_count": 2,
   "id": "453a5804",
   "metadata": {
    "execution": {
     "iopub.execute_input": "2021-12-01T06:01:03.400746Z",
     "iopub.status.busy": "2021-12-01T06:01:03.399701Z",
     "iopub.status.idle": "2021-12-01T06:01:03.409472Z",
     "shell.execute_reply": "2021-12-01T06:01:03.410097Z",
     "shell.execute_reply.started": "2021-12-01T05:47:58.333751Z"
    },
    "papermill": {
     "duration": 0.030189,
     "end_time": "2021-12-01T06:01:03.410300",
     "exception": false,
     "start_time": "2021-12-01T06:01:03.380111",
     "status": "completed"
    },
    "tags": []
   },
   "outputs": [],
   "source": [
    "def reduce_mem_usage(df, verbose=True):\n",
    "    numerics = ['int16', 'int32', 'int64', 'float16', 'float32', 'float64']\n",
    "    start_mem = df.memory_usage().sum() / 1024**2    \n",
    "    for col in df.columns:\n",
    "        col_type = df[col].dtypes\n",
    "        if col_type in numerics:\n",
    "            c_min = df[col].min()\n",
    "            c_max = df[col].max()\n",
    "            if str(col_type)[:3] == 'int':\n",
    "                if c_min > np.iinfo(np.int8).min and c_max < np.iinfo(np.int8).max:\n",
    "                    df[col] = df[col].astype(np.int8)\n",
    "                elif c_min > np.iinfo(np.int16).min and c_max < np.iinfo(np.int16).max:\n",
    "                    df[col] = df[col].astype(np.int16)\n",
    "                elif c_min > np.iinfo(np.int32).min and c_max < np.iinfo(np.int32).max:\n",
    "                    df[col] = df[col].astype(np.int32)\n",
    "                elif c_min > np.iinfo(np.int64).min and c_max < np.iinfo(np.int64).max:\n",
    "                    df[col] = df[col].astype(np.int64)  \n",
    "            else:\n",
    "                if c_min > np.finfo(np.float32).min and c_max < np.finfo(np.float32).max:\n",
    "                    df[col] = df[col].astype(np.float32)\n",
    "                else:\n",
    "                    df[col] = df[col].astype(np.float64)    \n",
    "    end_mem = df.memory_usage().sum() / 1024**2\n",
    "    if verbose: print('Mem. usage decreased to {:5.2f} Mb ({:.1f}% reduction)'.format(end_mem, 100 * (start_mem - end_mem) / start_mem))\n",
    "    return df"
   ]
  },
  {
   "cell_type": "code",
   "execution_count": 3,
   "id": "2ea3c1e7",
   "metadata": {
    "execution": {
     "iopub.execute_input": "2021-12-01T06:01:03.442247Z",
     "iopub.status.busy": "2021-12-01T06:01:03.441412Z",
     "iopub.status.idle": "2021-12-01T06:01:26.905211Z",
     "shell.execute_reply": "2021-12-01T06:01:26.904547Z",
     "shell.execute_reply.started": "2021-12-01T05:47:58.349171Z"
    },
    "papermill": {
     "duration": 23.48327,
     "end_time": "2021-12-01T06:01:26.905371",
     "exception": false,
     "start_time": "2021-12-01T06:01:03.422101",
     "status": "completed"
    },
    "tags": []
   },
   "outputs": [],
   "source": [
    "train = pd.read_csv(\"../input/tabular-playground-series-dec-2021/train.csv\")\n",
    "test = pd.read_csv(\"../input/tabular-playground-series-dec-2021/test.csv\")\n",
    "submission = pd.read_csv(\"../input/tabular-playground-series-dec-2021/sample_submission.csv\")"
   ]
  },
  {
   "cell_type": "code",
   "execution_count": 4,
   "id": "8a1d6567",
   "metadata": {
    "execution": {
     "iopub.execute_input": "2021-12-01T06:01:26.933207Z",
     "iopub.status.busy": "2021-12-01T06:01:26.932440Z",
     "iopub.status.idle": "2021-12-01T06:01:29.444717Z",
     "shell.execute_reply": "2021-12-01T06:01:29.444141Z",
     "shell.execute_reply.started": "2021-12-01T05:48:20.447299Z"
    },
    "papermill": {
     "duration": 2.528682,
     "end_time": "2021-12-01T06:01:29.444929",
     "exception": false,
     "start_time": "2021-12-01T06:01:26.916247",
     "status": "completed"
    },
    "tags": []
   },
   "outputs": [],
   "source": [
    "covtype = pd.read_csv(\"../input/forest-cover-type-dataset/covtype.csv\")\n",
    "covtype['Id'] = range(len(train), len(train)+len(covtype))\n",
    "covtype = covtype[train.columns].set_index(\"Id\")"
   ]
  },
  {
   "cell_type": "code",
   "execution_count": 5,
   "id": "22c98126",
   "metadata": {
    "execution": {
     "iopub.execute_input": "2021-12-01T06:01:30.029830Z",
     "iopub.status.busy": "2021-12-01T06:01:30.028312Z",
     "iopub.status.idle": "2021-12-01T06:01:32.078506Z",
     "shell.execute_reply": "2021-12-01T06:01:32.079134Z",
     "shell.execute_reply.started": "2021-12-01T05:48:22.812961Z"
    },
    "papermill": {
     "duration": 2.623428,
     "end_time": "2021-12-01T06:01:32.079349",
     "exception": false,
     "start_time": "2021-12-01T06:01:29.455921",
     "status": "completed"
    },
    "tags": []
   },
   "outputs": [
    {
     "name": "stdout",
     "output_type": "stream",
     "text": [
      "Mem. usage decreased to 270.84 Mb (83.9% reduction)\n",
      "Mem. usage decreased to 67.71 Mb (83.9% reduction)\n"
     ]
    }
   ],
   "source": [
    "y = train.Cover_Type.values\n",
    "X = reduce_mem_usage(train.drop(\"Cover_Type\", axis=1).set_index(\"Id\"))\n",
    "Xt = reduce_mem_usage(test.set_index(\"Id\"))"
   ]
  },
  {
   "cell_type": "code",
   "execution_count": 6,
   "id": "090f5b90",
   "metadata": {
    "execution": {
     "iopub.execute_input": "2021-12-01T06:01:32.114067Z",
     "iopub.status.busy": "2021-12-01T06:01:32.111350Z",
     "iopub.status.idle": "2021-12-01T06:01:32.326930Z",
     "shell.execute_reply": "2021-12-01T06:01:32.327514Z",
     "shell.execute_reply.started": "2021-12-01T05:48:25.268906Z"
    },
    "papermill": {
     "duration": 0.235175,
     "end_time": "2021-12-01T06:01:32.327697",
     "exception": false,
     "start_time": "2021-12-01T06:01:32.092522",
     "status": "completed"
    },
    "tags": []
   },
   "outputs": [
    {
     "name": "stdout",
     "output_type": "stream",
     "text": [
      "Mem. usage decreased to  0.83 Mb (83.9% reduction)\n"
     ]
    }
   ],
   "source": [
    "aug_X = reduce_mem_usage(covtype.loc[covtype.Cover_Type.isin([4, 5]), X.columns])\n",
    "aug_y = covtype.loc[covtype.Cover_Type.isin([4, 5]), 'Cover_Type']"
   ]
  },
  {
   "cell_type": "code",
   "execution_count": 7,
   "id": "5f77b16b",
   "metadata": {
    "execution": {
     "iopub.execute_input": "2021-12-01T06:01:32.357392Z",
     "iopub.status.busy": "2021-12-01T06:01:32.356703Z",
     "iopub.status.idle": "2021-12-01T06:01:32.359614Z",
     "shell.execute_reply": "2021-12-01T06:01:32.359022Z"
    },
    "papermill": {
     "duration": 0.020254,
     "end_time": "2021-12-01T06:01:32.359762",
     "exception": false,
     "start_time": "2021-12-01T06:01:32.339508",
     "status": "completed"
    },
    "tags": []
   },
   "outputs": [],
   "source": [
    "#aug_X = X[y==5]\n",
    "#aug_y = y[y==5]"
   ]
  },
  {
   "cell_type": "code",
   "execution_count": 8,
   "id": "83047af7",
   "metadata": {
    "execution": {
     "iopub.execute_input": "2021-12-01T06:01:32.516260Z",
     "iopub.status.busy": "2021-12-01T06:01:32.515428Z",
     "iopub.status.idle": "2021-12-01T06:01:32.520104Z",
     "shell.execute_reply": "2021-12-01T06:01:32.519521Z",
     "shell.execute_reply.started": "2021-12-01T05:48:25.454610Z"
    },
    "papermill": {
     "duration": 0.148013,
     "end_time": "2021-12-01T06:01:32.520271",
     "exception": false,
     "start_time": "2021-12-01T06:01:32.372258",
     "status": "completed"
    },
    "tags": []
   },
   "outputs": [
    {
     "data": {
      "text/plain": [
       "72"
      ]
     },
     "execution_count": 8,
     "metadata": {},
     "output_type": "execute_result"
    }
   ],
   "source": [
    "del([train, test, covtype])\n",
    "gc.collect()"
   ]
  },
  {
   "cell_type": "code",
   "execution_count": 9,
   "id": "0400dc54",
   "metadata": {
    "execution": {
     "iopub.execute_input": "2021-12-01T06:01:32.550955Z",
     "iopub.status.busy": "2021-12-01T06:01:32.549787Z",
     "iopub.status.idle": "2021-12-01T06:09:37.674542Z",
     "shell.execute_reply": "2021-12-01T06:09:37.673780Z",
     "shell.execute_reply.started": "2021-12-01T05:48:25.579928Z"
    },
    "papermill": {
     "duration": 485.141496,
     "end_time": "2021-12-01T06:09:37.674725",
     "exception": false,
     "start_time": "2021-12-01T06:01:32.533229",
     "status": "completed"
    },
    "tags": []
   },
   "outputs": [
    {
     "name": "stderr",
     "output_type": "stream",
     "text": [
      "/opt/conda/lib/python3.7/site-packages/sklearn/model_selection/_split.py:672: UserWarning: The least populated class in y has only 1 members, which is less than n_splits=5.\n",
      "  % (min_groups, self.n_splits)), UserWarning)\n"
     ]
    },
    {
     "name": "stdout",
     "output_type": "stream",
     "text": [
      "[1]\tvalid_0's multi_error: 0.425028\tvalid_0's multi_logloss: 0.719034\n",
      "Training until validation scores don't improve for 10 rounds\n",
      "[2]\tvalid_0's multi_error: 0.106591\tvalid_0's multi_logloss: 0.622185\n",
      "[3]\tvalid_0's multi_error: 0.0850675\tvalid_0's multi_logloss: 0.540125\n",
      "[4]\tvalid_0's multi_error: 0.0840863\tvalid_0's multi_logloss: 0.489538\n",
      "[5]\tvalid_0's multi_error: 0.0722263\tvalid_0's multi_logloss: 0.441986\n",
      "[6]\tvalid_0's multi_error: 0.0683813\tvalid_0's multi_logloss: 0.398004\n",
      "[7]\tvalid_0's multi_error: 0.0662637\tvalid_0's multi_logloss: 0.366359\n",
      "[8]\tvalid_0's multi_error: 0.0644712\tvalid_0's multi_logloss: 0.340981\n",
      "[9]\tvalid_0's multi_error: 0.063345\tvalid_0's multi_logloss: 0.318382\n",
      "[10]\tvalid_0's multi_error: 0.0622612\tvalid_0's multi_logloss: 0.300402\n",
      "[11]\tvalid_0's multi_error: 0.0616763\tvalid_0's multi_logloss: 0.285162\n",
      "[12]\tvalid_0's multi_error: 0.0610062\tvalid_0's multi_logloss: 0.272297\n",
      "[13]\tvalid_0's multi_error: 0.0600263\tvalid_0's multi_logloss: 0.259973\n",
      "[14]\tvalid_0's multi_error: 0.0593575\tvalid_0's multi_logloss: 0.250682\n",
      "[15]\tvalid_0's multi_error: 0.0588\tvalid_0's multi_logloss: 0.241665\n",
      "[16]\tvalid_0's multi_error: 0.0581487\tvalid_0's multi_logloss: 0.234955\n",
      "[17]\tvalid_0's multi_error: 0.0576825\tvalid_0's multi_logloss: 0.227409\n",
      "[18]\tvalid_0's multi_error: 0.0570712\tvalid_0's multi_logloss: 0.221896\n",
      "[19]\tvalid_0's multi_error: 0.0564187\tvalid_0's multi_logloss: 0.219594\n",
      "[20]\tvalid_0's multi_error: 0.0560025\tvalid_0's multi_logloss: 0.213247\n",
      "[21]\tvalid_0's multi_error: 0.0557212\tvalid_0's multi_logloss: 0.209544\n",
      "[22]\tvalid_0's multi_error: 0.0550412\tvalid_0's multi_logloss: 0.205027\n",
      "[23]\tvalid_0's multi_error: 0.0545612\tvalid_0's multi_logloss: 0.202797\n",
      "[24]\tvalid_0's multi_error: 0.0541112\tvalid_0's multi_logloss: 0.202084\n",
      "[25]\tvalid_0's multi_error: 0.0533887\tvalid_0's multi_logloss: 0.197155\n",
      "[26]\tvalid_0's multi_error: 0.0528775\tvalid_0's multi_logloss: 0.19524\n",
      "[27]\tvalid_0's multi_error: 0.0524813\tvalid_0's multi_logloss: 0.192162\n",
      "[28]\tvalid_0's multi_error: 0.052\tvalid_0's multi_logloss: 0.190678\n",
      "[29]\tvalid_0's multi_error: 0.0518487\tvalid_0's multi_logloss: 0.192893\n",
      "[30]\tvalid_0's multi_error: 0.0514\tvalid_0's multi_logloss: 0.187171\n",
      "[31]\tvalid_0's multi_error: 0.0510888\tvalid_0's multi_logloss: 0.190828\n",
      "[32]\tvalid_0's multi_error: 0.0507037\tvalid_0's multi_logloss: 0.188047\n",
      "[33]\tvalid_0's multi_error: 0.0503663\tvalid_0's multi_logloss: 0.182737\n",
      "[34]\tvalid_0's multi_error: 0.0500963\tvalid_0's multi_logloss: 0.181341\n",
      "[35]\tvalid_0's multi_error: 0.049795\tvalid_0's multi_logloss: 0.180631\n",
      "[36]\tvalid_0's multi_error: 0.0494363\tvalid_0's multi_logloss: 0.179305\n",
      "[37]\tvalid_0's multi_error: 0.0492775\tvalid_0's multi_logloss: 0.183407\n",
      "[38]\tvalid_0's multi_error: 0.0489788\tvalid_0's multi_logloss: 0.182302\n",
      "[39]\tvalid_0's multi_error: 0.0487363\tvalid_0's multi_logloss: 0.179422\n",
      "[40]\tvalid_0's multi_error: 0.0485488\tvalid_0's multi_logloss: 0.184974\n",
      "[41]\tvalid_0's multi_error: 0.04804\tvalid_0's multi_logloss: 0.174611\n",
      "[42]\tvalid_0's multi_error: 0.047675\tvalid_0's multi_logloss: 0.173594\n",
      "[43]\tvalid_0's multi_error: 0.0475575\tvalid_0's multi_logloss: 0.173013\n",
      "[44]\tvalid_0's multi_error: 0.0475763\tvalid_0's multi_logloss: 0.18339\n",
      "[45]\tvalid_0's multi_error: 0.0471725\tvalid_0's multi_logloss: 0.17302\n",
      "[46]\tvalid_0's multi_error: 0.0471787\tvalid_0's multi_logloss: 0.176851\n",
      "[47]\tvalid_0's multi_error: 0.0468525\tvalid_0's multi_logloss: 0.172762\n",
      "[48]\tvalid_0's multi_error: 0.0491588\tvalid_0's multi_logloss: 0.196548\n",
      "[49]\tvalid_0's multi_error: 0.0470013\tvalid_0's multi_logloss: 0.172472\n",
      "[50]\tvalid_0's multi_error: 0.0475\tvalid_0's multi_logloss: 0.205069\n",
      "[51]\tvalid_0's multi_error: 0.046885\tvalid_0's multi_logloss: 0.1877\n",
      "[52]\tvalid_0's multi_error: 0.0468237\tvalid_0's multi_logloss: 0.186356\n",
      "[53]\tvalid_0's multi_error: 0.0466737\tvalid_0's multi_logloss: 0.18464\n",
      "[54]\tvalid_0's multi_error: 0.0463312\tvalid_0's multi_logloss: 0.175748\n",
      "[55]\tvalid_0's multi_error: 0.0462562\tvalid_0's multi_logloss: 0.176961\n",
      "[56]\tvalid_0's multi_error: 0.0461488\tvalid_0's multi_logloss: 0.177975\n",
      "[57]\tvalid_0's multi_error: 0.0486912\tvalid_0's multi_logloss: 0.268719\n",
      "[58]\tvalid_0's multi_error: 0.0470125\tvalid_0's multi_logloss: 0.21353\n",
      "[59]\tvalid_0's multi_error: 0.0467287\tvalid_0's multi_logloss: 0.204048\n",
      "Early stopping, best iteration is:\n",
      "[49]\tvalid_0's multi_error: 0.0470013\tvalid_0's multi_logloss: 0.172472\n",
      "[1]\tvalid_0's multi_error: 0.424504\tvalid_0's multi_logloss: 0.720547\n",
      "Training until validation scores don't improve for 10 rounds\n",
      "[2]\tvalid_0's multi_error: 0.109111\tvalid_0's multi_logloss: 0.620051\n",
      "[3]\tvalid_0's multi_error: 0.08694\tvalid_0's multi_logloss: 0.54942\n",
      "[4]\tvalid_0's multi_error: 0.0854112\tvalid_0's multi_logloss: 0.48832\n",
      "[5]\tvalid_0's multi_error: 0.0723063\tvalid_0's multi_logloss: 0.440078\n",
      "[6]\tvalid_0's multi_error: 0.0685163\tvalid_0's multi_logloss: 0.398375\n",
      "[7]\tvalid_0's multi_error: 0.0660587\tvalid_0's multi_logloss: 0.376982\n",
      "[8]\tvalid_0's multi_error: 0.0644225\tvalid_0's multi_logloss: 0.341317\n",
      "[9]\tvalid_0's multi_error: 0.06405\tvalid_0's multi_logloss: 0.329121\n",
      "[10]\tvalid_0's multi_error: 0.0635987\tvalid_0's multi_logloss: 0.304457\n",
      "[11]\tvalid_0's multi_error: 0.0625913\tvalid_0's multi_logloss: 0.286972\n",
      "[12]\tvalid_0's multi_error: 0.0617337\tvalid_0's multi_logloss: 0.274043\n",
      "[13]\tvalid_0's multi_error: 0.0610837\tvalid_0's multi_logloss: 0.263116\n",
      "[14]\tvalid_0's multi_error: 0.0601363\tvalid_0's multi_logloss: 0.254498\n",
      "[15]\tvalid_0's multi_error: 0.059645\tvalid_0's multi_logloss: 0.2463\n",
      "[16]\tvalid_0's multi_error: 0.0591075\tvalid_0's multi_logloss: 0.238406\n",
      "[17]\tvalid_0's multi_error: 0.0583287\tvalid_0's multi_logloss: 0.233193\n",
      "[18]\tvalid_0's multi_error: 0.0577175\tvalid_0's multi_logloss: 0.224415\n",
      "[19]\tvalid_0's multi_error: 0.05713\tvalid_0's multi_logloss: 0.22015\n",
      "[20]\tvalid_0's multi_error: 0.0563188\tvalid_0's multi_logloss: 0.214536\n",
      "[21]\tvalid_0's multi_error: 0.0558413\tvalid_0's multi_logloss: 0.210991\n",
      "[22]\tvalid_0's multi_error: 0.0553387\tvalid_0's multi_logloss: 0.206908\n",
      "[23]\tvalid_0's multi_error: 0.0548\tvalid_0's multi_logloss: 0.203822\n",
      "[24]\tvalid_0's multi_error: 0.0543937\tvalid_0's multi_logloss: 0.202034\n",
      "[25]\tvalid_0's multi_error: 0.0540925\tvalid_0's multi_logloss: 0.200616\n",
      "[26]\tvalid_0's multi_error: 0.0536112\tvalid_0's multi_logloss: 0.19661\n",
      "[27]\tvalid_0's multi_error: 0.0530363\tvalid_0's multi_logloss: 0.197154\n",
      "[28]\tvalid_0's multi_error: 0.0525863\tvalid_0's multi_logloss: 0.194371\n",
      "[29]\tvalid_0's multi_error: 0.0522975\tvalid_0's multi_logloss: 0.192436\n",
      "[30]\tvalid_0's multi_error: 0.05204\tvalid_0's multi_logloss: 0.191551\n",
      "[31]\tvalid_0's multi_error: 0.0517188\tvalid_0's multi_logloss: 0.190001\n",
      "[32]\tvalid_0's multi_error: 0.05169\tvalid_0's multi_logloss: 0.191789\n",
      "[33]\tvalid_0's multi_error: 0.0511612\tvalid_0's multi_logloss: 0.186346\n",
      "[34]\tvalid_0's multi_error: 0.0507862\tvalid_0's multi_logloss: 0.185486\n",
      "[35]\tvalid_0's multi_error: 0.0512413\tvalid_0's multi_logloss: 0.199549\n",
      "[36]\tvalid_0's multi_error: 0.0503388\tvalid_0's multi_logloss: 0.186238\n",
      "[37]\tvalid_0's multi_error: 0.0500025\tvalid_0's multi_logloss: 0.185413\n",
      "[38]\tvalid_0's multi_error: 0.0499163\tvalid_0's multi_logloss: 0.186937\n",
      "[39]\tvalid_0's multi_error: 0.0497225\tvalid_0's multi_logloss: 0.188302\n",
      "[40]\tvalid_0's multi_error: 0.0497587\tvalid_0's multi_logloss: 0.197875\n",
      "[41]\tvalid_0's multi_error: 0.0497187\tvalid_0's multi_logloss: 0.188916\n",
      "[42]\tvalid_0's multi_error: 0.0492337\tvalid_0's multi_logloss: 0.180556\n",
      "[43]\tvalid_0's multi_error: 0.0497037\tvalid_0's multi_logloss: 0.207947\n",
      "[44]\tvalid_0's multi_error: 0.0489425\tvalid_0's multi_logloss: 0.183404\n",
      "[45]\tvalid_0's multi_error: 0.0496388\tvalid_0's multi_logloss: 0.214529\n",
      "[46]\tvalid_0's multi_error: 0.0494875\tvalid_0's multi_logloss: 0.19731\n",
      "[47]\tvalid_0's multi_error: 0.0489588\tvalid_0's multi_logloss: 0.197376\n",
      "[48]\tvalid_0's multi_error: 0.048755\tvalid_0's multi_logloss: 0.193917\n",
      "[49]\tvalid_0's multi_error: 0.048375\tvalid_0's multi_logloss: 0.189269\n",
      "[50]\tvalid_0's multi_error: 0.0487438\tvalid_0's multi_logloss: 0.209225\n",
      "[51]\tvalid_0's multi_error: 0.0479912\tvalid_0's multi_logloss: 0.186144\n",
      "[52]\tvalid_0's multi_error: 0.0479762\tvalid_0's multi_logloss: 0.191647\n",
      "Early stopping, best iteration is:\n",
      "[42]\tvalid_0's multi_error: 0.0492337\tvalid_0's multi_logloss: 0.180556\n",
      "[1]\tvalid_0's multi_error: 0.424812\tvalid_0's multi_logloss: 0.717261\n",
      "Training until validation scores don't improve for 10 rounds\n",
      "[2]\tvalid_0's multi_error: 0.108481\tvalid_0's multi_logloss: 0.616799\n",
      "[3]\tvalid_0's multi_error: 0.08478\tvalid_0's multi_logloss: 0.536429\n",
      "[4]\tvalid_0's multi_error: 0.083715\tvalid_0's multi_logloss: 0.483711\n",
      "[5]\tvalid_0's multi_error: 0.0704475\tvalid_0's multi_logloss: 0.428974\n",
      "[6]\tvalid_0's multi_error: 0.06683\tvalid_0's multi_logloss: 0.389447\n",
      "[7]\tvalid_0's multi_error: 0.0652463\tvalid_0's multi_logloss: 0.357661\n",
      "[8]\tvalid_0's multi_error: 0.0636313\tvalid_0's multi_logloss: 0.329876\n",
      "[9]\tvalid_0's multi_error: 0.0628912\tvalid_0's multi_logloss: 0.308396\n",
      "[10]\tvalid_0's multi_error: 0.0623925\tvalid_0's multi_logloss: 0.289137\n",
      "[11]\tvalid_0's multi_error: 0.0616075\tvalid_0's multi_logloss: 0.273665\n",
      "[12]\tvalid_0's multi_error: 0.06088\tvalid_0's multi_logloss: 0.260588\n",
      "[13]\tvalid_0's multi_error: 0.060045\tvalid_0's multi_logloss: 0.249074\n",
      "[14]\tvalid_0's multi_error: 0.0591513\tvalid_0's multi_logloss: 0.239457\n",
      "[15]\tvalid_0's multi_error: 0.0584875\tvalid_0's multi_logloss: 0.230543\n",
      "[16]\tvalid_0's multi_error: 0.05789\tvalid_0's multi_logloss: 0.223125\n",
      "[17]\tvalid_0's multi_error: 0.0572387\tvalid_0's multi_logloss: 0.216958\n",
      "[18]\tvalid_0's multi_error: 0.0563287\tvalid_0's multi_logloss: 0.210928\n",
      "[19]\tvalid_0's multi_error: 0.0559412\tvalid_0's multi_logloss: 0.207554\n",
      "[20]\tvalid_0's multi_error: 0.05546\tvalid_0's multi_logloss: 0.200938\n",
      "[21]\tvalid_0's multi_error: 0.0549325\tvalid_0's multi_logloss: 0.197195\n",
      "[22]\tvalid_0's multi_error: 0.05445\tvalid_0's multi_logloss: 0.194468\n",
      "[23]\tvalid_0's multi_error: 0.053965\tvalid_0's multi_logloss: 0.190783\n",
      "[24]\tvalid_0's multi_error: 0.053595\tvalid_0's multi_logloss: 0.187768\n",
      "[25]\tvalid_0's multi_error: 0.0530325\tvalid_0's multi_logloss: 0.184799\n",
      "[26]\tvalid_0's multi_error: 0.05264\tvalid_0's multi_logloss: 0.181719\n",
      "[27]\tvalid_0's multi_error: 0.0520888\tvalid_0's multi_logloss: 0.179915\n",
      "[28]\tvalid_0's multi_error: 0.0516788\tvalid_0's multi_logloss: 0.178429\n",
      "[29]\tvalid_0's multi_error: 0.0512275\tvalid_0's multi_logloss: 0.175786\n",
      "[30]\tvalid_0's multi_error: 0.050905\tvalid_0's multi_logloss: 0.173776\n",
      "[31]\tvalid_0's multi_error: 0.05052\tvalid_0's multi_logloss: 0.173111\n",
      "[32]\tvalid_0's multi_error: 0.050255\tvalid_0's multi_logloss: 0.170661\n",
      "[33]\tvalid_0's multi_error: 0.0499725\tvalid_0's multi_logloss: 0.16939\n",
      "[34]\tvalid_0's multi_error: 0.0495413\tvalid_0's multi_logloss: 0.168347\n",
      "[35]\tvalid_0's multi_error: 0.0493463\tvalid_0's multi_logloss: 0.16898\n",
      "[36]\tvalid_0's multi_error: 0.0494462\tvalid_0's multi_logloss: 0.182182\n",
      "[37]\tvalid_0's multi_error: 0.04893\tvalid_0's multi_logloss: 0.165771\n",
      "[38]\tvalid_0's multi_error: 0.0486888\tvalid_0's multi_logloss: 0.167625\n",
      "[39]\tvalid_0's multi_error: 0.04837\tvalid_0's multi_logloss: 0.166972\n",
      "[40]\tvalid_0's multi_error: 0.0481025\tvalid_0's multi_logloss: 0.16509\n",
      "[41]\tvalid_0's multi_error: 0.0478675\tvalid_0's multi_logloss: 0.165843\n",
      "[42]\tvalid_0's multi_error: 0.0477025\tvalid_0's multi_logloss: 0.164159\n",
      "[43]\tvalid_0's multi_error: 0.0475\tvalid_0's multi_logloss: 0.165708\n",
      "[44]\tvalid_0's multi_error: 0.04727\tvalid_0's multi_logloss: 0.163492\n",
      "[45]\tvalid_0's multi_error: 0.0471225\tvalid_0's multi_logloss: 0.167082\n",
      "[46]\tvalid_0's multi_error: 0.0467625\tvalid_0's multi_logloss: 0.161377\n",
      "[47]\tvalid_0's multi_error: 0.04736\tvalid_0's multi_logloss: 0.178277\n",
      "[48]\tvalid_0's multi_error: 0.046685\tvalid_0's multi_logloss: 0.162321\n",
      "[49]\tvalid_0's multi_error: 0.0467588\tvalid_0's multi_logloss: 0.168033\n",
      "[50]\tvalid_0's multi_error: 0.0464912\tvalid_0's multi_logloss: 0.163717\n",
      "[51]\tvalid_0's multi_error: 0.0463288\tvalid_0's multi_logloss: 0.162017\n",
      "[52]\tvalid_0's multi_error: 0.0465438\tvalid_0's multi_logloss: 0.173406\n",
      "[53]\tvalid_0's multi_error: 0.0462175\tvalid_0's multi_logloss: 0.166517\n",
      "[54]\tvalid_0's multi_error: 0.0459787\tvalid_0's multi_logloss: 0.164928\n",
      "[55]\tvalid_0's multi_error: 0.0462887\tvalid_0's multi_logloss: 0.180672\n",
      "[56]\tvalid_0's multi_error: 0.0456125\tvalid_0's multi_logloss: 0.159512\n",
      "[57]\tvalid_0's multi_error: 0.0456488\tvalid_0's multi_logloss: 0.161217\n",
      "[58]\tvalid_0's multi_error: 0.0453387\tvalid_0's multi_logloss: 0.156795\n",
      "[59]\tvalid_0's multi_error: 0.0452775\tvalid_0's multi_logloss: 0.158462\n",
      "[60]\tvalid_0's multi_error: 0.0451187\tvalid_0's multi_logloss: 0.160499\n",
      "[61]\tvalid_0's multi_error: 0.0449563\tvalid_0's multi_logloss: 0.157254\n",
      "[62]\tvalid_0's multi_error: 0.044805\tvalid_0's multi_logloss: 0.156436\n",
      "[63]\tvalid_0's multi_error: 0.04482\tvalid_0's multi_logloss: 0.156138\n",
      "[64]\tvalid_0's multi_error: 0.0450987\tvalid_0's multi_logloss: 0.160174\n",
      "[65]\tvalid_0's multi_error: 0.0448575\tvalid_0's multi_logloss: 0.156871\n",
      "[66]\tvalid_0's multi_error: 0.0447263\tvalid_0's multi_logloss: 0.157302\n",
      "[67]\tvalid_0's multi_error: 0.0448013\tvalid_0's multi_logloss: 0.161135\n",
      "[68]\tvalid_0's multi_error: 0.0445762\tvalid_0's multi_logloss: 0.156429\n",
      "[69]\tvalid_0's multi_error: 0.044495\tvalid_0's multi_logloss: 0.155888\n",
      "[70]\tvalid_0's multi_error: 0.0445175\tvalid_0's multi_logloss: 0.159708\n",
      "[71]\tvalid_0's multi_error: 0.045035\tvalid_0's multi_logloss: 0.18005\n",
      "[72]\tvalid_0's multi_error: 0.044355\tvalid_0's multi_logloss: 0.160404\n",
      "[73]\tvalid_0's multi_error: 0.04414\tvalid_0's multi_logloss: 0.156619\n",
      "[74]\tvalid_0's multi_error: 0.0442175\tvalid_0's multi_logloss: 0.163007\n",
      "[75]\tvalid_0's multi_error: 0.0440113\tvalid_0's multi_logloss: 0.156988\n",
      "[76]\tvalid_0's multi_error: 0.0439488\tvalid_0's multi_logloss: 0.158755\n",
      "[77]\tvalid_0's multi_error: 0.0444425\tvalid_0's multi_logloss: 0.178064\n",
      "[78]\tvalid_0's multi_error: 0.0438212\tvalid_0's multi_logloss: 0.157638\n",
      "[79]\tvalid_0's multi_error: 0.0445125\tvalid_0's multi_logloss: 0.179472\n",
      "Early stopping, best iteration is:\n",
      "[69]\tvalid_0's multi_error: 0.044495\tvalid_0's multi_logloss: 0.155888\n",
      "[1]\tvalid_0's multi_error: 0.424765\tvalid_0's multi_logloss: 0.721296\n",
      "Training until validation scores don't improve for 10 rounds\n",
      "[2]\tvalid_0's multi_error: 0.109259\tvalid_0's multi_logloss: 0.621821\n",
      "[3]\tvalid_0's multi_error: 0.0864025\tvalid_0's multi_logloss: 0.540996\n",
      "[4]\tvalid_0's multi_error: 0.0852762\tvalid_0's multi_logloss: 0.478448\n",
      "[5]\tvalid_0's multi_error: 0.0728888\tvalid_0's multi_logloss: 0.432119\n",
      "[6]\tvalid_0's multi_error: 0.0688012\tvalid_0's multi_logloss: 0.393163\n",
      "[7]\tvalid_0's multi_error: 0.0662313\tvalid_0's multi_logloss: 0.361985\n",
      "[8]\tvalid_0's multi_error: 0.06521\tvalid_0's multi_logloss: 0.340573\n",
      "[9]\tvalid_0's multi_error: 0.064035\tvalid_0's multi_logloss: 0.314385\n",
      "[10]\tvalid_0's multi_error: 0.06273\tvalid_0's multi_logloss: 0.294869\n",
      "[11]\tvalid_0's multi_error: 0.0616138\tvalid_0's multi_logloss: 0.278669\n",
      "[12]\tvalid_0's multi_error: 0.0609763\tvalid_0's multi_logloss: 0.264718\n",
      "[13]\tvalid_0's multi_error: 0.0601737\tvalid_0's multi_logloss: 0.253464\n",
      "[14]\tvalid_0's multi_error: 0.0594338\tvalid_0's multi_logloss: 0.243995\n",
      "[15]\tvalid_0's multi_error: 0.0590725\tvalid_0's multi_logloss: 0.237031\n",
      "[16]\tvalid_0's multi_error: 0.0584537\tvalid_0's multi_logloss: 0.230437\n",
      "[17]\tvalid_0's multi_error: 0.0577675\tvalid_0's multi_logloss: 0.223811\n",
      "[18]\tvalid_0's multi_error: 0.0570587\tvalid_0's multi_logloss: 0.218649\n",
      "[19]\tvalid_0's multi_error: 0.05669\tvalid_0's multi_logloss: 0.215152\n",
      "[20]\tvalid_0's multi_error: 0.0561475\tvalid_0's multi_logloss: 0.211863\n",
      "[21]\tvalid_0's multi_error: 0.0558563\tvalid_0's multi_logloss: 0.20656\n",
      "[22]\tvalid_0's multi_error: 0.0553862\tvalid_0's multi_logloss: 0.203918\n",
      "[23]\tvalid_0's multi_error: 0.0546688\tvalid_0's multi_logloss: 0.2009\n",
      "[24]\tvalid_0's multi_error: 0.0541063\tvalid_0's multi_logloss: 0.196878\n",
      "[25]\tvalid_0's multi_error: 0.0537875\tvalid_0's multi_logloss: 0.196633\n",
      "[26]\tvalid_0's multi_error: 0.0531887\tvalid_0's multi_logloss: 0.190252\n",
      "[27]\tvalid_0's multi_error: 0.05281\tvalid_0's multi_logloss: 0.188162\n",
      "[28]\tvalid_0's multi_error: 0.05238\tvalid_0's multi_logloss: 0.185224\n",
      "[29]\tvalid_0's multi_error: 0.0518525\tvalid_0's multi_logloss: 0.183798\n",
      "[30]\tvalid_0's multi_error: 0.0515613\tvalid_0's multi_logloss: 0.182575\n",
      "[31]\tvalid_0's multi_error: 0.0511838\tvalid_0's multi_logloss: 0.180749\n",
      "[32]\tvalid_0's multi_error: 0.0507763\tvalid_0's multi_logloss: 0.178909\n",
      "[33]\tvalid_0's multi_error: 0.0503463\tvalid_0's multi_logloss: 0.177587\n",
      "[34]\tvalid_0's multi_error: 0.0500712\tvalid_0's multi_logloss: 0.176523\n",
      "[35]\tvalid_0's multi_error: 0.049755\tvalid_0's multi_logloss: 0.175142\n",
      "[36]\tvalid_0's multi_error: 0.0494625\tvalid_0's multi_logloss: 0.173707\n",
      "[37]\tvalid_0's multi_error: 0.04919\tvalid_0's multi_logloss: 0.172757\n",
      "[38]\tvalid_0's multi_error: 0.0490675\tvalid_0's multi_logloss: 0.172738\n",
      "[39]\tvalid_0's multi_error: 0.0487275\tvalid_0's multi_logloss: 0.171109\n",
      "[40]\tvalid_0's multi_error: 0.04846\tvalid_0's multi_logloss: 0.171995\n",
      "[41]\tvalid_0's multi_error: 0.0482387\tvalid_0's multi_logloss: 0.168864\n",
      "[42]\tvalid_0's multi_error: 0.0485462\tvalid_0's multi_logloss: 0.196018\n",
      "[43]\tvalid_0's multi_error: 0.04778\tvalid_0's multi_logloss: 0.167145\n",
      "[44]\tvalid_0's multi_error: 0.0483188\tvalid_0's multi_logloss: 0.190287\n",
      "[45]\tvalid_0's multi_error: 0.0475875\tvalid_0's multi_logloss: 0.167668\n",
      "[46]\tvalid_0's multi_error: 0.050235\tvalid_0's multi_logloss: 0.272292\n",
      "[47]\tvalid_0's multi_error: 0.0484537\tvalid_0's multi_logloss: 0.210624\n",
      "[48]\tvalid_0's multi_error: 0.0479025\tvalid_0's multi_logloss: 0.192825\n",
      "[49]\tvalid_0's multi_error: 0.0493587\tvalid_0's multi_logloss: 0.249006\n",
      "[50]\tvalid_0's multi_error: 0.047885\tvalid_0's multi_logloss: 0.198227\n",
      "[51]\tvalid_0's multi_error: 0.0479275\tvalid_0's multi_logloss: 0.203825\n",
      "[52]\tvalid_0's multi_error: 0.0475612\tvalid_0's multi_logloss: 0.194739\n",
      "[53]\tvalid_0's multi_error: 0.04737\tvalid_0's multi_logloss: 0.192432\n",
      "Early stopping, best iteration is:\n",
      "[43]\tvalid_0's multi_error: 0.04778\tvalid_0's multi_logloss: 0.167145\n",
      "[1]\tvalid_0's multi_error: 0.425216\tvalid_0's multi_logloss: 0.719115\n",
      "Training until validation scores don't improve for 10 rounds\n",
      "[2]\tvalid_0's multi_error: 0.107609\tvalid_0's multi_logloss: 0.629068\n",
      "[3]\tvalid_0's multi_error: 0.0854825\tvalid_0's multi_logloss: 0.54556\n",
      "[4]\tvalid_0's multi_error: 0.084645\tvalid_0's multi_logloss: 0.486468\n",
      "[5]\tvalid_0's multi_error: 0.0727712\tvalid_0's multi_logloss: 0.437685\n",
      "[6]\tvalid_0's multi_error: 0.0667662\tvalid_0's multi_logloss: 0.399845\n",
      "[7]\tvalid_0's multi_error: 0.0643025\tvalid_0's multi_logloss: 0.365358\n",
      "[8]\tvalid_0's multi_error: 0.0629288\tvalid_0's multi_logloss: 0.338081\n",
      "[9]\tvalid_0's multi_error: 0.0624637\tvalid_0's multi_logloss: 0.315539\n",
      "[10]\tvalid_0's multi_error: 0.0617687\tvalid_0's multi_logloss: 0.296411\n",
      "[11]\tvalid_0's multi_error: 0.0612263\tvalid_0's multi_logloss: 0.281402\n",
      "[12]\tvalid_0's multi_error: 0.0608513\tvalid_0's multi_logloss: 0.27016\n",
      "[13]\tvalid_0's multi_error: 0.0603788\tvalid_0's multi_logloss: 0.259825\n",
      "[14]\tvalid_0's multi_error: 0.0596\tvalid_0's multi_logloss: 0.248567\n",
      "[15]\tvalid_0's multi_error: 0.05915\tvalid_0's multi_logloss: 0.238486\n",
      "[16]\tvalid_0's multi_error: 0.0588562\tvalid_0's multi_logloss: 0.230742\n",
      "[17]\tvalid_0's multi_error: 0.0580362\tvalid_0's multi_logloss: 0.224152\n",
      "[18]\tvalid_0's multi_error: 0.05754\tvalid_0's multi_logloss: 0.21872\n",
      "[19]\tvalid_0's multi_error: 0.0568325\tvalid_0's multi_logloss: 0.214513\n",
      "[20]\tvalid_0's multi_error: 0.05638\tvalid_0's multi_logloss: 0.209118\n",
      "[21]\tvalid_0's multi_error: 0.0558613\tvalid_0's multi_logloss: 0.205949\n",
      "[22]\tvalid_0's multi_error: 0.0551162\tvalid_0's multi_logloss: 0.201109\n",
      "[23]\tvalid_0's multi_error: 0.0545887\tvalid_0's multi_logloss: 0.198151\n",
      "[24]\tvalid_0's multi_error: 0.0540588\tvalid_0's multi_logloss: 0.195962\n",
      "[25]\tvalid_0's multi_error: 0.05356\tvalid_0's multi_logloss: 0.194108\n",
      "[26]\tvalid_0's multi_error: 0.0531638\tvalid_0's multi_logloss: 0.193494\n",
      "[27]\tvalid_0's multi_error: 0.052615\tvalid_0's multi_logloss: 0.189932\n",
      "[28]\tvalid_0's multi_error: 0.0522038\tvalid_0's multi_logloss: 0.186584\n",
      "[29]\tvalid_0's multi_error: 0.0518663\tvalid_0's multi_logloss: 0.184959\n",
      "[30]\tvalid_0's multi_error: 0.0516238\tvalid_0's multi_logloss: 0.184657\n",
      "[31]\tvalid_0's multi_error: 0.0512213\tvalid_0's multi_logloss: 0.181721\n",
      "[32]\tvalid_0's multi_error: 0.0509037\tvalid_0's multi_logloss: 0.180249\n",
      "[33]\tvalid_0's multi_error: 0.0506125\tvalid_0's multi_logloss: 0.178285\n",
      "[34]\tvalid_0's multi_error: 0.0502913\tvalid_0's multi_logloss: 0.179293\n",
      "[35]\tvalid_0's multi_error: 0.0499412\tvalid_0's multi_logloss: 0.175797\n",
      "[36]\tvalid_0's multi_error: 0.0497638\tvalid_0's multi_logloss: 0.177658\n",
      "[37]\tvalid_0's multi_error: 0.0494412\tvalid_0's multi_logloss: 0.179585\n",
      "[38]\tvalid_0's multi_error: 0.0491012\tvalid_0's multi_logloss: 0.173019\n",
      "[39]\tvalid_0's multi_error: 0.048965\tvalid_0's multi_logloss: 0.174226\n",
      "[40]\tvalid_0's multi_error: 0.048665\tvalid_0's multi_logloss: 0.171996\n",
      "[41]\tvalid_0's multi_error: 0.0488237\tvalid_0's multi_logloss: 0.184034\n",
      "[42]\tvalid_0's multi_error: 0.048385\tvalid_0's multi_logloss: 0.171993\n",
      "[43]\tvalid_0's multi_error: 0.0482112\tvalid_0's multi_logloss: 0.174927\n",
      "[44]\tvalid_0's multi_error: 0.0480037\tvalid_0's multi_logloss: 0.178336\n",
      "[45]\tvalid_0's multi_error: 0.0476512\tvalid_0's multi_logloss: 0.170902\n",
      "[46]\tvalid_0's multi_error: 0.0478888\tvalid_0's multi_logloss: 0.18565\n",
      "[47]\tvalid_0's multi_error: 0.0476663\tvalid_0's multi_logloss: 0.181836\n",
      "[48]\tvalid_0's multi_error: 0.0471925\tvalid_0's multi_logloss: 0.171553\n",
      "[49]\tvalid_0's multi_error: 0.04743\tvalid_0's multi_logloss: 0.188735\n",
      "[50]\tvalid_0's multi_error: 0.0470262\tvalid_0's multi_logloss: 0.173455\n",
      "[51]\tvalid_0's multi_error: 0.0485587\tvalid_0's multi_logloss: 0.23138\n",
      "[52]\tvalid_0's multi_error: 0.0471012\tvalid_0's multi_logloss: 0.181588\n",
      "[53]\tvalid_0's multi_error: 0.0478225\tvalid_0's multi_logloss: 0.208691\n",
      "[54]\tvalid_0's multi_error: 0.04784\tvalid_0's multi_logloss: 0.209654\n",
      "[55]\tvalid_0's multi_error: 0.0471613\tvalid_0's multi_logloss: 0.18885\n",
      "Early stopping, best iteration is:\n",
      "[45]\tvalid_0's multi_error: 0.0476512\tvalid_0's multi_logloss: 0.170902\n"
     ]
    }
   ],
   "source": [
    "FOLDS = 5\n",
    "\n",
    "cv = StratifiedKFold(n_splits=FOLDS, shuffle=True, random_state=0)\n",
    "\n",
    "preds = np.zeros( (len(Xt), len(np.unique(y))) )\n",
    "oof = np.zeros( (len(X), len(np.unique(y))) )\n",
    "\n",
    "for idx, (train_idx, val_idx) in enumerate(cv.split(X, y)):\n",
    "    \n",
    "    X_train, X_val = X.iloc[train_idx], X.iloc[val_idx]\n",
    "    y_train, y_val = y[train_idx], y[val_idx]\n",
    "    \n",
    "    X_train = X_train.append(aug_X)\n",
    "    y_train = np.concatenate([y_train, aug_y])\n",
    "    \n",
    "    model = lgbm.LGBMClassifier(objective=\"multiclass\")\n",
    "    model.fit(X_train, y_train, eval_set=[(X_val, y_val)], \n",
    "              eval_metric=\"multi_error\", early_stopping_rounds=10)\n",
    "              \n",
    "    preds += model.predict_proba(Xt) / FOLDS\n",
    "    oof[val_idx] = model.predict_proba(X_val)"
   ]
  },
  {
   "cell_type": "code",
   "execution_count": 10,
   "id": "63465799",
   "metadata": {
    "execution": {
     "iopub.execute_input": "2021-12-01T06:09:37.886004Z",
     "iopub.status.busy": "2021-12-01T06:09:37.885308Z",
     "iopub.status.idle": "2021-12-01T06:10:47.146390Z",
     "shell.execute_reply": "2021-12-01T06:10:47.144889Z",
     "shell.execute_reply.started": "2021-12-01T05:57:24.841336Z"
    },
    "papermill": {
     "duration": 69.36965,
     "end_time": "2021-12-01T06:10:47.146586",
     "exception": false,
     "start_time": "2021-12-01T06:09:37.776936",
     "status": "completed"
    },
    "tags": []
   },
   "outputs": [],
   "source": [
    "oof = pd.DataFrame(oof, columns=[f\"prob_{i}\" for i in range(7)])\n",
    "oof.insert(loc=0, column='Id', value=range(len(X)))\n",
    "oof.to_csv(\"oof.csv\", index=False)"
   ]
  },
  {
   "cell_type": "code",
   "execution_count": 11,
   "id": "44a2f66a",
   "metadata": {
    "execution": {
     "iopub.execute_input": "2021-12-01T06:10:47.361155Z",
     "iopub.status.busy": "2021-12-01T06:10:47.360110Z",
     "iopub.status.idle": "2021-12-01T06:10:49.262375Z",
     "shell.execute_reply": "2021-12-01T06:10:49.261430Z",
     "shell.execute_reply.started": "2021-12-01T05:57:29.697926Z"
    },
    "papermill": {
     "duration": 2.009473,
     "end_time": "2021-12-01T06:10:49.262565",
     "exception": false,
     "start_time": "2021-12-01T06:10:47.253092",
     "status": "completed"
    },
    "tags": []
   },
   "outputs": [],
   "source": [
    "submission.Cover_Type = np.argmax(preds, axis=1) + 1\n",
    "submission.to_csv(\"submission.csv\", index=False)"
   ]
  }
 ],
 "metadata": {
  "kernelspec": {
   "display_name": "Python 3",
   "language": "python",
   "name": "python3"
  },
  "language_info": {
   "codemirror_mode": {
    "name": "ipython",
    "version": 3
   },
   "file_extension": ".py",
   "mimetype": "text/x-python",
   "name": "python",
   "nbconvert_exporter": "python",
   "pygments_lexer": "ipython3",
   "version": "3.7.10"
  },
  "papermill": {
   "default_parameters": {},
   "duration": 598.969606,
   "end_time": "2021-12-01T06:10:50.378506",
   "environment_variables": {},
   "exception": null,
   "input_path": "__notebook__.ipynb",
   "output_path": "__notebook__.ipynb",
   "parameters": {},
   "start_time": "2021-12-01T06:00:51.408900",
   "version": "2.3.3"
  }
 },
 "nbformat": 4,
 "nbformat_minor": 5
}
