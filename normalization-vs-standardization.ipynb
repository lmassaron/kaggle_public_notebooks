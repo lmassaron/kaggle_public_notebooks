{
 "cells": [
  {
   "cell_type": "code",
   "execution_count": 1,
   "id": "c272855f",
   "metadata": {
    "_cell_guid": "b1076dfc-b9ad-4769-8c92-a6c4dae69d19",
    "_uuid": "8f2839f25d086af736a60e9eeb907d3b93b6e0e5",
    "execution": {
     "iopub.execute_input": "2024-03-02T17:19:12.740919Z",
     "iopub.status.busy": "2024-03-02T17:19:12.740406Z",
     "iopub.status.idle": "2024-03-02T17:19:13.717552Z",
     "shell.execute_reply": "2024-03-02T17:19:13.716517Z"
    },
    "papermill": {
     "duration": 0.98546,
     "end_time": "2024-03-02T17:19:13.720430",
     "exception": false,
     "start_time": "2024-03-02T17:19:12.734970",
     "status": "completed"
    },
    "tags": []
   },
   "outputs": [],
   "source": [
    "import numpy as np\n",
    "import pandas as pd"
   ]
  },
  {
   "cell_type": "code",
   "execution_count": 2,
   "id": "824156bd",
   "metadata": {
    "execution": {
     "iopub.execute_input": "2024-03-02T17:19:13.729125Z",
     "iopub.status.busy": "2024-03-02T17:19:13.728564Z",
     "iopub.status.idle": "2024-03-02T17:19:13.895940Z",
     "shell.execute_reply": "2024-03-02T17:19:13.894761Z"
    },
    "papermill": {
     "duration": 0.17497,
     "end_time": "2024-03-02T17:19:13.898847",
     "exception": false,
     "start_time": "2024-03-02T17:19:13.723877",
     "status": "completed"
    },
    "tags": []
   },
   "outputs": [],
   "source": [
    "train = pd.read_csv(\"/kaggle/input/playground-series-s4e3/train.csv\", index_col=\"id\")"
   ]
  },
  {
   "cell_type": "markdown",
   "id": "4d525fb5",
   "metadata": {
    "papermill": {
     "duration": 0.002772,
     "end_time": "2024-03-02T17:19:13.904848",
     "exception": false,
     "start_time": "2024-03-02T17:19:13.902076",
     "status": "completed"
    },
    "tags": []
   },
   "source": [
    "The idea of this notebook is to check if rescaling with standardization (mean centering and variance rescaling) or normalization (rescaling in the 0-1 range) does implies changes in the way features relate to each other (correlation).\n",
    "\n",
    "Actually, do to rounding operations with floats, there are some slight difference that might lead to different models and results."
   ]
  },
  {
   "cell_type": "code",
   "execution_count": 3,
   "id": "f7efc012",
   "metadata": {
    "execution": {
     "iopub.execute_input": "2024-03-02T17:19:13.913201Z",
     "iopub.status.busy": "2024-03-02T17:19:13.912792Z",
     "iopub.status.idle": "2024-03-02T17:19:15.292659Z",
     "shell.execute_reply": "2024-03-02T17:19:15.291028Z"
    },
    "papermill": {
     "duration": 1.389216,
     "end_time": "2024-03-02T17:19:15.297147",
     "exception": false,
     "start_time": "2024-03-02T17:19:13.907931",
     "status": "completed"
    },
    "tags": []
   },
   "outputs": [
    {
     "name": "stdout",
     "output_type": "stream",
     "text": [
      "Max difference in correlation due to standardization: 2.220446049250313e-15\n",
      "Max difference in correlation due to normalization: 1.2212453270876722e-15\n"
     ]
    }
   ],
   "source": [
    "from sklearn.preprocessing import StandardScaler, MinMaxScaler\n",
    "\n",
    "sscaler = StandardScaler()\n",
    "mmscaler = MinMaxScaler()\n",
    "\n",
    "original = train.values.astype(np.float64)\n",
    "standardized = sscaler.fit_transform(original)\n",
    "normalized = mmscaler.fit_transform(original)\n",
    "\n",
    "mat_original = np.corrcoef(original, rowvar=False)\n",
    "mat_std = np.corrcoef(standardized, rowvar=False)\n",
    "mat_norm = np.corrcoef(normalized, rowvar=False)\n",
    "\n",
    "delta_std = np.max(mat_original - mat_std)\n",
    "delta_norm = np.max(mat_original - mat_norm)\n",
    "\n",
    "print(f\"Max difference in correlation due to standardization: {delta_std}\")\n",
    "print(f\"Max difference in correlation due to normalization: {delta_norm}\")"
   ]
  },
  {
   "cell_type": "markdown",
   "id": "c67ee931",
   "metadata": {
    "papermill": {
     "duration": 0.005849,
     "end_time": "2024-03-02T17:19:15.309736",
     "exception": false,
     "start_time": "2024-03-02T17:19:15.303887",
     "status": "completed"
    },
    "tags": []
   },
   "source": [
    "If previously to rescaling we downsize the datatype to float32, the max change is even larger."
   ]
  },
  {
   "cell_type": "code",
   "execution_count": 4,
   "id": "6bca8128",
   "metadata": {
    "execution": {
     "iopub.execute_input": "2024-03-02T17:19:15.325950Z",
     "iopub.status.busy": "2024-03-02T17:19:15.324814Z",
     "iopub.status.idle": "2024-03-02T17:19:15.380133Z",
     "shell.execute_reply": "2024-03-02T17:19:15.378658Z"
    },
    "papermill": {
     "duration": 0.068131,
     "end_time": "2024-03-02T17:19:15.384049",
     "exception": false,
     "start_time": "2024-03-02T17:19:15.315918",
     "status": "completed"
    },
    "tags": []
   },
   "outputs": [
    {
     "name": "stdout",
     "output_type": "stream",
     "text": [
      "Max difference in correlation due to standardization: 1.4132742143235788e-08\n",
      "Max difference in correlation due to normalization: 4.93559638714558e-08\n"
     ]
    }
   ],
   "source": [
    "from sklearn.preprocessing import StandardScaler, MinMaxScaler\n",
    "\n",
    "sscaler = StandardScaler()\n",
    "mmscaler = MinMaxScaler()\n",
    "\n",
    "original = train.values.astype(np.float32)\n",
    "standardized = sscaler.fit_transform(original)\n",
    "normalized = mmscaler.fit_transform(original)\n",
    "\n",
    "mat_original = np.corrcoef(original, rowvar=False)\n",
    "mat_std = np.corrcoef(standardized, rowvar=False)\n",
    "mat_norm = np.corrcoef(normalized, rowvar=False)\n",
    "\n",
    "delta_std = np.max(mat_original - mat_std)\n",
    "delta_norm = np.max(mat_original - mat_norm)\n",
    "\n",
    "print(f\"Max difference in correlation due to standardization: {delta_std}\")\n",
    "print(f\"Max difference in correlation due to normalization: {delta_norm}\")"
   ]
  }
 ],
 "metadata": {
  "kaggle": {
   "accelerator": "none",
   "dataSources": [
    {
     "databundleVersionId": 7659021,
     "sourceId": 68699,
     "sourceType": "competition"
    }
   ],
   "dockerImageVersionId": 30664,
   "isGpuEnabled": false,
   "isInternetEnabled": true,
   "language": "python",
   "sourceType": "notebook"
  },
  "kernelspec": {
   "display_name": "Python 3",
   "language": "python",
   "name": "python3"
  },
  "language_info": {
   "codemirror_mode": {
    "name": "ipython",
    "version": 3
   },
   "file_extension": ".py",
   "mimetype": "text/x-python",
   "name": "python",
   "nbconvert_exporter": "python",
   "pygments_lexer": "ipython3",
   "version": "3.10.13"
  },
  "papermill": {
   "default_parameters": {},
   "duration": 6.522855,
   "end_time": "2024-03-02T17:19:16.020120",
   "environment_variables": {},
   "exception": null,
   "input_path": "__notebook__.ipynb",
   "output_path": "__notebook__.ipynb",
   "parameters": {},
   "start_time": "2024-03-02T17:19:09.497265",
   "version": "2.5.0"
  }
 },
 "nbformat": 4,
 "nbformat_minor": 5
}
