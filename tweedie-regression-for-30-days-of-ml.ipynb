{
 "cells": [
  {
   "cell_type": "markdown",
   "id": "99468cac",
   "metadata": {
    "execution": {
     "iopub.execute_input": "2021-08-27T14:11:48.358104Z",
     "iopub.status.busy": "2021-08-27T14:11:48.357675Z",
     "iopub.status.idle": "2021-08-27T14:11:48.363516Z",
     "shell.execute_reply": "2021-08-27T14:11:48.362551Z",
     "shell.execute_reply.started": "2021-08-27T14:11:48.358072Z"
    },
    "papermill": {
     "duration": 0.010351,
     "end_time": "2021-08-27T16:33:05.912564",
     "exception": false,
     "start_time": "2021-08-27T16:33:05.902213",
     "status": "completed"
    },
    "tags": []
   },
   "source": [
    "When ensembling using blending it is important to blend models of similar performance but the less possible correlated between them.\n",
    "\n",
    "Instead, when stacking, it is just important to stack models that are different from each other. It will be the stacking algorithm to decide if even an under-perforimng model can help in any way your ensemble.\n",
    "\n",
    "In this kernel I propose to you the tweedie regression, a regression based on tweedie distribution which is suitable for modelling claims in insurance (our artificial data has been taken from an insurance dataset).\n",
    "\n",
    "The model uses some \"tricks\" to perform better:\n",
    "\n",
    "* binarization of continuous variables based on k-means cluster analysis\n",
    "* some selected interactions\n",
    "\n",
    "actually, if you are using this model in a stacking enseble, you don't need to add any of these engeneered features.\n",
    "\n",
    "Make your stacking richer and more varied!\n",
    "\n",
    "Happy Kaggling!\n"
   ]
  },
  {
   "cell_type": "code",
   "execution_count": 1,
   "id": "d57db5ee",
   "metadata": {
    "execution": {
     "iopub.execute_input": "2021-08-27T16:33:05.936831Z",
     "iopub.status.busy": "2021-08-27T16:33:05.935755Z",
     "iopub.status.idle": "2021-08-27T16:33:07.168224Z",
     "shell.execute_reply": "2021-08-27T16:33:07.168723Z"
    },
    "papermill": {
     "duration": 1.244922,
     "end_time": "2021-08-27T16:33:07.168998",
     "exception": false,
     "start_time": "2021-08-27T16:33:05.924076",
     "status": "completed"
    },
    "tags": []
   },
   "outputs": [],
   "source": [
    "import numpy as np\n",
    "import pandas as pd\n",
    "\n",
    "from sklearn.preprocessing import OrdinalEncoder\n",
    "from sklearn.preprocessing import StandardScaler\n",
    "from sklearn.cluster import KMeans\n",
    "from sklearn.decomposition import PCA\n",
    "from sklearn.model_selection import StratifiedKFold\n",
    "from sklearn.linear_model import TweedieRegressor\n",
    "from sklearn.metrics import mean_squared_error"
   ]
  },
  {
   "cell_type": "code",
   "execution_count": 2,
   "id": "e9998a11",
   "metadata": {
    "execution": {
     "iopub.execute_input": "2021-08-27T16:33:07.190242Z",
     "iopub.status.busy": "2021-08-27T16:33:07.189630Z",
     "iopub.status.idle": "2021-08-27T16:33:11.078823Z",
     "shell.execute_reply": "2021-08-27T16:33:11.077920Z",
     "shell.execute_reply.started": "2021-08-27T14:11:48.365395Z"
    },
    "papermill": {
     "duration": 3.900761,
     "end_time": "2021-08-27T16:33:11.078966",
     "exception": false,
     "start_time": "2021-08-27T16:33:07.178205",
     "status": "completed"
    },
    "tags": []
   },
   "outputs": [],
   "source": [
    "# Loading data \n",
    "X_train = pd.read_csv(\"../input/30-days-of-ml/train.csv\")\n",
    "X_test = pd.read_csv(\"../input/30-days-of-ml/test.csv\")"
   ]
  },
  {
   "cell_type": "code",
   "execution_count": 3,
   "id": "cf85a41a",
   "metadata": {
    "execution": {
     "iopub.execute_input": "2021-08-27T16:33:11.107180Z",
     "iopub.status.busy": "2021-08-27T16:33:11.106548Z",
     "iopub.status.idle": "2021-08-27T16:33:11.226822Z",
     "shell.execute_reply": "2021-08-27T16:33:11.226274Z",
     "shell.execute_reply.started": "2021-08-27T14:11:51.028128Z"
    },
    "papermill": {
     "duration": 0.138576,
     "end_time": "2021-08-27T16:33:11.226963",
     "exception": false,
     "start_time": "2021-08-27T16:33:11.088387",
     "status": "completed"
    },
    "tags": []
   },
   "outputs": [],
   "source": [
    "# Preparing data as a tabular matrix\n",
    "y_train = X_train.target\n",
    "X_train = X_train.set_index('id').drop('target', axis='columns')\n",
    "X_test = X_test.set_index('id')"
   ]
  },
  {
   "cell_type": "code",
   "execution_count": 4,
   "id": "c0b4860c",
   "metadata": {
    "execution": {
     "iopub.execute_input": "2021-08-27T16:33:11.249733Z",
     "iopub.status.busy": "2021-08-27T16:33:11.249154Z",
     "iopub.status.idle": "2021-08-27T16:33:11.252230Z",
     "shell.execute_reply": "2021-08-27T16:33:11.252639Z",
     "shell.execute_reply.started": "2021-08-27T14:11:51.144658Z"
    },
    "papermill": {
     "duration": 0.01653,
     "end_time": "2021-08-27T16:33:11.252804",
     "exception": false,
     "start_time": "2021-08-27T16:33:11.236274",
     "status": "completed"
    },
    "tags": []
   },
   "outputs": [],
   "source": [
    "# Pointing out categorical features\n",
    "categoricals = [item for item in X_train.columns if 'cat' in item]"
   ]
  },
  {
   "cell_type": "code",
   "execution_count": 5,
   "id": "e7c6a50d",
   "metadata": {
    "execution": {
     "iopub.execute_input": "2021-08-27T16:33:11.274029Z",
     "iopub.status.busy": "2021-08-27T16:33:11.273441Z",
     "iopub.status.idle": "2021-08-27T16:33:11.929961Z",
     "shell.execute_reply": "2021-08-27T16:33:11.930494Z",
     "shell.execute_reply.started": "2021-08-27T14:11:51.152249Z"
    },
    "papermill": {
     "duration": 0.668577,
     "end_time": "2021-08-27T16:33:11.930684",
     "exception": false,
     "start_time": "2021-08-27T16:33:11.262107",
     "status": "completed"
    },
    "tags": []
   },
   "outputs": [],
   "source": [
    "# Dealing with categorical data using get_dummies\n",
    "dummies = pd.get_dummies(X_train.append(X_test)[categoricals])\n",
    "X_train[dummies.columns] = dummies.iloc[:len(X_train), :]\n",
    "X_test[dummies.columns] = dummies.iloc[len(X_train): , :]\n",
    "del(dummies)"
   ]
  },
  {
   "cell_type": "code",
   "execution_count": 6,
   "id": "bc5b4d57",
   "metadata": {
    "execution": {
     "iopub.execute_input": "2021-08-27T16:33:11.952141Z",
     "iopub.status.busy": "2021-08-27T16:33:11.951556Z",
     "iopub.status.idle": "2021-08-27T16:33:13.653835Z",
     "shell.execute_reply": "2021-08-27T16:33:13.653190Z",
     "shell.execute_reply.started": "2021-08-27T14:11:51.986178Z"
    },
    "papermill": {
     "duration": 1.713897,
     "end_time": "2021-08-27T16:33:13.653990",
     "exception": false,
     "start_time": "2021-08-27T16:33:11.940093",
     "status": "completed"
    },
    "tags": []
   },
   "outputs": [],
   "source": [
    "# Dealing with categorical data using OrdinalEncoder (only when there are 3 or more levels)\n",
    "ordinal_encoder = OrdinalEncoder()\n",
    "X_train[categoricals[3:]] = ordinal_encoder.fit_transform(X_train[categoricals[3:]]).astype(int)\n",
    "X_test[categoricals[3:]] = ordinal_encoder.transform(X_test[categoricals[3:]]).astype(int)\n",
    "X_train = X_train.drop(categoricals[:3], axis=\"columns\")\n",
    "X_test = X_test.drop(categoricals[:3], axis=\"columns\")"
   ]
  },
  {
   "cell_type": "code",
   "execution_count": 7,
   "id": "62bcfda3",
   "metadata": {
    "execution": {
     "iopub.execute_input": "2021-08-27T16:33:13.680721Z",
     "iopub.status.busy": "2021-08-27T16:33:13.679606Z",
     "iopub.status.idle": "2021-08-27T16:33:13.704869Z",
     "shell.execute_reply": "2021-08-27T16:33:13.704361Z",
     "shell.execute_reply.started": "2021-08-27T14:11:55.326744Z"
    },
    "papermill": {
     "duration": 0.041372,
     "end_time": "2021-08-27T16:33:13.705018",
     "exception": false,
     "start_time": "2021-08-27T16:33:13.663646",
     "status": "completed"
    },
    "tags": []
   },
   "outputs": [],
   "source": [
    "# Feature selection (https://www.kaggle.com/lucamassaron/tutorial-feature-selection-with-boruta-shap)\n",
    "important_features = ['cat1_A', 'cat1_B', 'cat5', 'cat8', 'cat8_C', 'cat8_E', 'cont0', \n",
    "                      'cont1', 'cont10', 'cont11', 'cont12', 'cont13', 'cont2', 'cont3', \n",
    "                      'cont4', 'cont5', 'cont6', 'cont7', 'cont8', 'cont9']\n",
    "\n",
    "categoricals = ['cat5', 'cat8']\n",
    "\n",
    "X_train = X_train[important_features]\n",
    "X_test = X_test[important_features]"
   ]
  },
  {
   "cell_type": "code",
   "execution_count": 8,
   "id": "721b6c35",
   "metadata": {
    "execution": {
     "iopub.execute_input": "2021-08-27T16:33:13.726889Z",
     "iopub.status.busy": "2021-08-27T16:33:13.726270Z",
     "iopub.status.idle": "2021-08-27T16:33:47.151338Z",
     "shell.execute_reply": "2021-08-27T16:33:47.152222Z",
     "shell.execute_reply.started": "2021-08-27T14:11:55.357676Z"
    },
    "papermill": {
     "duration": 33.438216,
     "end_time": "2021-08-27T16:33:47.152506",
     "exception": false,
     "start_time": "2021-08-27T16:33:13.714290",
     "status": "completed"
    },
    "tags": []
   },
   "outputs": [
    {
     "name": "stdout",
     "output_type": "stream",
     "text": [
      "(array([ 0,  1,  2,  3,  4,  5,  6,  7,  8,  9, 10, 11, 12, 13, 14, 15, 16,\n",
      "       17, 18, 19, 20, 21, 22, 23, 24, 25, 26, 27, 28, 29, 30, 31],\n",
      "      dtype=int32), array([ 8885, 23161, 18215, 13810, 13461, 18955,  8334,  8874,  3903,\n",
      "       11152,  8617,  3471,  8492, 10460,  2726,  3428, 12002,  8632,\n",
      "        7151,  7087, 14235, 10591,  2337, 12269,  3762, 10066,  1579,\n",
      "       14104, 14622,  2005,  7083,  6531]))\n"
     ]
    }
   ],
   "source": [
    "# Stratifying the data\n",
    "km = KMeans(n_clusters=32, random_state=0)\n",
    "pca = PCA(n_components=16, random_state=0)\n",
    "\n",
    "pca.fit(X_train)\n",
    "km.fit(pca.transform(X_train))\n",
    "\n",
    "print(np.unique(km.labels_, return_counts=True))\n",
    "\n",
    "y_stratified = km.labels_"
   ]
  },
  {
   "cell_type": "code",
   "execution_count": 9,
   "id": "73269f78",
   "metadata": {
    "execution": {
     "iopub.execute_input": "2021-08-27T16:33:47.188262Z",
     "iopub.status.busy": "2021-08-27T16:33:47.187593Z",
     "iopub.status.idle": "2021-08-27T16:35:15.159104Z",
     "shell.execute_reply": "2021-08-27T16:35:15.159657Z",
     "shell.execute_reply.started": "2021-08-27T14:12:34.342015Z"
    },
    "papermill": {
     "duration": 87.994065,
     "end_time": "2021-08-27T16:35:15.159869",
     "exception": false,
     "start_time": "2021-08-27T16:33:47.165804",
     "status": "completed"
    },
    "tags": []
   },
   "outputs": [],
   "source": [
    "# Clustering continuos values (acting as non linearity correctors)\n",
    "n_clusters = 16\n",
    "km = KMeans(n_clusters=n_clusters, random_state=0)\n",
    "for i in range(14):\n",
    "    feats = [f'cont{i}_{j}'for j in range(n_clusters)]\n",
    "    km.fit(X_train[[f'cont{i}']])\n",
    "    X_train[feats] = pd.get_dummies(km.predict(X_train[[f'cont{i}']])).values\n",
    "    X_test[feats] = pd.get_dummies(km.predict(X_test[[f'cont{i}']])).values"
   ]
  },
  {
   "cell_type": "code",
   "execution_count": 10,
   "id": "ca9cfebc",
   "metadata": {
    "execution": {
     "iopub.execute_input": "2021-08-27T16:35:15.193017Z",
     "iopub.status.busy": "2021-08-27T16:35:15.191654Z",
     "iopub.status.idle": "2021-08-27T16:35:45.952324Z",
     "shell.execute_reply": "2021-08-27T16:35:45.951798Z",
     "shell.execute_reply.started": "2021-08-27T16:07:42.452903Z"
    },
    "papermill": {
     "duration": 30.780904,
     "end_time": "2021-08-27T16:35:45.952457",
     "exception": false,
     "start_time": "2021-08-27T16:35:15.171553",
     "status": "completed"
    },
    "tags": []
   },
   "outputs": [],
   "source": [
    "interactions =(\n",
    "[('cont2_11', 'cont7_9'), ('cont2_11', 'cont7_13'), ('cont2_6', 'cont4_5'), ('cat8', 'cont8_1'),\n",
    " ('cont5_6', 'cont8_0'), ('cont5_6', 'cont7_0'), ('cont7_0', 'cont8_0'), ('cat8_C', 'cont4_5'), \n",
    " ('cont4_5', 'cont6_5'), ('cont4_5', 'cont7'), ('cont0_13', 'cont8_15'), ('cont5', 'cont5_6'),\n",
    " ('cont7_13', 'cont7_9'), ('cont4_3', 'cont7_0'), ('cont5_14', 'cont5_6'), ('cont11', 'cont5_14'),\n",
    " ('cont2_11', 'cont2_12'), ('cont2_11', 'cont5_3'), ('cont1_1', 'cont7_6'), ('cont7_9', 'cont8_6'),\n",
    " ('cont2_12', 'cont7_13'), ('cont4_3', 'cont5_6'), ('cont2_6', 'cont6_5'), ('cont2_6', 'cont5_5'),\n",
    " ('cat8_C', 'cont2_6'), ('cat8', 'cont7_9'), ('cont4_9', 'cont8_15'), ('cont4_14', 'cont7_9'),\n",
    " ('cont1_15', 'cont5_11'), ('cont4_3', 'cont7_4'), ('cont7_9', 'cont8_1'), ('cont4_3', 'cont8_0'),\n",
    " ('cont4_3', 'cont5'), ('cont2_12', 'cont7_9'), ('cont5_6', 'cont6_4'), ('cont1_1', 'cont1_13'), \n",
    " ('cont4_5', 'cont7_9'), ('cont4_12', 'cont8_15'), ('cont5_3', 'cont7_9'), ('cont4_5', 'cont5_5'),\n",
    " ('cont0_3', 'cont4_5'), ('cont5_6', 'cont6_0'), ('cat8', 'cont8_2'), ('cont5_5', 'cont6_5'),\n",
    " ('cont4_3', 'cont6_0'), ('cat8', 'cont2_4'), ('cont1_1', 'cont4_5'), ('cont5', 'cont8_0'),\n",
    " ('cont0_1', 'cont4_0'), ('cont13', 'cont8_0')]\n",
    ")\n",
    "\n",
    "for a, b in interactions:\n",
    "    X_train[f\"{a}*{b}\"] = np.prod(X_train[[a, b]].values, axis=1)\n",
    "    X_test[f\"{a}*{b}\"] = np.prod(X_test[[a, b]].values, axis=1)"
   ]
  },
  {
   "cell_type": "code",
   "execution_count": 11,
   "id": "972b0332",
   "metadata": {
    "execution": {
     "iopub.execute_input": "2021-08-27T16:35:45.981237Z",
     "iopub.status.busy": "2021-08-27T16:35:45.980251Z",
     "iopub.status.idle": "2021-08-27T16:40:36.584718Z",
     "shell.execute_reply": "2021-08-27T16:40:36.585451Z"
    },
    "papermill": {
     "duration": 290.6234,
     "end_time": "2021-08-27T16:40:36.585769",
     "exception": false,
     "start_time": "2021-08-27T16:35:45.962369",
     "status": "completed"
    },
    "tags": []
   },
   "outputs": [
    {
     "name": "stdout",
     "output_type": "stream",
     "text": [
      "Fold 0 RMSE: 0.72873\n",
      "Fold 1 RMSE: 0.72822\n",
      "Fold 2 RMSE: 0.72524\n",
      "Fold 3 RMSE: 0.72563\n",
      "Fold 4 RMSE: 0.72664\n",
      "Fold 5 RMSE: 0.72444\n",
      "Fold 6 RMSE: 0.72410\n",
      "Fold 7 RMSE: 0.72564\n",
      "Fold 8 RMSE: 0.73232\n",
      "Fold 9 RMSE: 0.72392\n",
      "CV RMSE 0.72649 (0.00248)\n"
     ]
    }
   ],
   "source": [
    "# Cross-validation prediction\n",
    "folds = 10\n",
    "skf = StratifiedKFold(n_splits=folds,\n",
    "                      shuffle=True, \n",
    "                      random_state=0)\n",
    "\n",
    "fold_idxs = list(skf.split(X_train, y_stratified))\n",
    "\n",
    "predictions = np.zeros(len(X_test))\n",
    "score = list()\n",
    "\n",
    "for k, (train_idx, val_idx) in enumerate(fold_idxs):\n",
    "    \n",
    "    ss = StandardScaler()\n",
    "    \n",
    "    y = y_train[train_idx]\n",
    "    X = ss.fit_transform(X_train.iloc[train_idx, :]).astype(np.float32)\n",
    "    Xv = ss.transform(X_train.iloc[val_idx, :]).astype(np.float32)\n",
    "    Xt = ss.transform(X_test).astype(np.float32)\n",
    "    \n",
    "    glm = TweedieRegressor(power=1.75, alpha=0.0001, max_iter=10000)\n",
    "    glm.fit(X, y)\n",
    "    \n",
    "    val_preds = glm.predict(Xv)\n",
    "    val_rmse = mean_squared_error(y_true=y_train[val_idx], y_pred=val_preds, squared=False)\n",
    "    print(f\"Fold {k} RMSE: {val_rmse:0.5f}\")\n",
    "    predictions += glm.predict(Xt).ravel()\n",
    "    score.append(val_rmse)\n",
    "    \n",
    "predictions /= folds\n",
    "print(f\"CV RMSE {np.mean(score):0.5f} ({np.std(score):0.5f})\")"
   ]
  },
  {
   "cell_type": "code",
   "execution_count": 12,
   "id": "5ed83c3b",
   "metadata": {
    "execution": {
     "iopub.execute_input": "2021-08-27T16:40:36.641665Z",
     "iopub.status.busy": "2021-08-27T16:40:36.640422Z",
     "iopub.status.idle": "2021-08-27T16:40:37.124455Z",
     "shell.execute_reply": "2021-08-27T16:40:37.123916Z",
     "shell.execute_reply.started": "2021-08-27T14:16:25.971784Z"
    },
    "papermill": {
     "duration": 0.515147,
     "end_time": "2021-08-27T16:40:37.124634",
     "exception": false,
     "start_time": "2021-08-27T16:40:36.609487",
     "status": "completed"
    },
    "tags": []
   },
   "outputs": [],
   "source": [
    "# Preparing the submission\n",
    "submission = pd.DataFrame({'id':X_test.index, \n",
    "                           'target': predictions})\n",
    "\n",
    "submission.to_csv(\"submission.csv\", index = False)"
   ]
  },
  {
   "cell_type": "code",
   "execution_count": 13,
   "id": "74882c61",
   "metadata": {
    "execution": {
     "iopub.execute_input": "2021-08-27T16:40:37.157117Z",
     "iopub.status.busy": "2021-08-27T16:40:37.156498Z",
     "iopub.status.idle": "2021-08-27T16:40:37.174665Z",
     "shell.execute_reply": "2021-08-27T16:40:37.175175Z",
     "shell.execute_reply.started": "2021-08-27T14:16:26.761980Z"
    },
    "papermill": {
     "duration": 0.038409,
     "end_time": "2021-08-27T16:40:37.175335",
     "exception": false,
     "start_time": "2021-08-27T16:40:37.136926",
     "status": "completed"
    },
    "tags": []
   },
   "outputs": [
    {
     "data": {
      "text/html": [
       "<div>\n",
       "<style scoped>\n",
       "    .dataframe tbody tr th:only-of-type {\n",
       "        vertical-align: middle;\n",
       "    }\n",
       "\n",
       "    .dataframe tbody tr th {\n",
       "        vertical-align: top;\n",
       "    }\n",
       "\n",
       "    .dataframe thead th {\n",
       "        text-align: right;\n",
       "    }\n",
       "</style>\n",
       "<table border=\"1\" class=\"dataframe\">\n",
       "  <thead>\n",
       "    <tr style=\"text-align: right;\">\n",
       "      <th></th>\n",
       "      <th>id</th>\n",
       "      <th>target</th>\n",
       "    </tr>\n",
       "  </thead>\n",
       "  <tbody>\n",
       "    <tr>\n",
       "      <th>0</th>\n",
       "      <td>0</td>\n",
       "      <td>8.060932</td>\n",
       "    </tr>\n",
       "    <tr>\n",
       "      <th>1</th>\n",
       "      <td>5</td>\n",
       "      <td>8.356644</td>\n",
       "    </tr>\n",
       "    <tr>\n",
       "      <th>2</th>\n",
       "      <td>15</td>\n",
       "      <td>8.380574</td>\n",
       "    </tr>\n",
       "    <tr>\n",
       "      <th>3</th>\n",
       "      <td>16</td>\n",
       "      <td>8.513334</td>\n",
       "    </tr>\n",
       "    <tr>\n",
       "      <th>4</th>\n",
       "      <td>17</td>\n",
       "      <td>8.325107</td>\n",
       "    </tr>\n",
       "    <tr>\n",
       "      <th>...</th>\n",
       "      <td>...</td>\n",
       "      <td>...</td>\n",
       "    </tr>\n",
       "    <tr>\n",
       "      <th>199995</th>\n",
       "      <td>499987</td>\n",
       "      <td>7.973437</td>\n",
       "    </tr>\n",
       "    <tr>\n",
       "      <th>199996</th>\n",
       "      <td>499990</td>\n",
       "      <td>8.441941</td>\n",
       "    </tr>\n",
       "    <tr>\n",
       "      <th>199997</th>\n",
       "      <td>499991</td>\n",
       "      <td>8.392145</td>\n",
       "    </tr>\n",
       "    <tr>\n",
       "      <th>199998</th>\n",
       "      <td>499994</td>\n",
       "      <td>8.199370</td>\n",
       "    </tr>\n",
       "    <tr>\n",
       "      <th>199999</th>\n",
       "      <td>499995</td>\n",
       "      <td>8.152188</td>\n",
       "    </tr>\n",
       "  </tbody>\n",
       "</table>\n",
       "<p>200000 rows × 2 columns</p>\n",
       "</div>"
      ],
      "text/plain": [
       "            id    target\n",
       "0            0  8.060932\n",
       "1            5  8.356644\n",
       "2           15  8.380574\n",
       "3           16  8.513334\n",
       "4           17  8.325107\n",
       "...        ...       ...\n",
       "199995  499987  7.973437\n",
       "199996  499990  8.441941\n",
       "199997  499991  8.392145\n",
       "199998  499994  8.199370\n",
       "199999  499995  8.152188\n",
       "\n",
       "[200000 rows x 2 columns]"
      ]
     },
     "execution_count": 13,
     "metadata": {},
     "output_type": "execute_result"
    }
   ],
   "source": [
    "submission"
   ]
  }
 ],
 "metadata": {
  "kernelspec": {
   "display_name": "Python 3",
   "language": "python",
   "name": "python3"
  },
  "language_info": {
   "codemirror_mode": {
    "name": "ipython",
    "version": 3
   },
   "file_extension": ".py",
   "mimetype": "text/x-python",
   "name": "python",
   "nbconvert_exporter": "python",
   "pygments_lexer": "ipython3",
   "version": "3.7.10"
  },
  "papermill": {
   "default_parameters": {},
   "duration": 459.965336,
   "end_time": "2021-08-27T16:40:38.536729",
   "environment_variables": {},
   "exception": null,
   "input_path": "__notebook__.ipynb",
   "output_path": "__notebook__.ipynb",
   "parameters": {},
   "start_time": "2021-08-27T16:32:58.571393",
   "version": "2.3.3"
  }
 },
 "nbformat": 4,
 "nbformat_minor": 5
}
