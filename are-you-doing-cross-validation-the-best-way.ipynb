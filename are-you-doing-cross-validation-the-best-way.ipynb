{
 "cells": [
  {
   "cell_type": "markdown",
   "id": "4a45f7fb",
   "metadata": {
    "papermill": {
     "duration": 0.01219,
     "end_time": "2021-08-28T08:26:37.825787",
     "exception": false,
     "start_time": "2021-08-28T08:26:37.813597",
     "status": "completed"
    },
    "tags": []
   },
   "source": [
    "In this competition there are a lot of discussions and notebooks on hyper-parameter tuning, XGBoost and stacking, since they are the most effective techniques.\n",
    "\n",
    "Yet, something is missing. For instance, there little reasoning has been done on the best way to cross-validate.\n",
    "\n",
    "Actually, if you watch carefully the data, it seems like data distributions are segregated into specific portions of space, something reminiscent ot me of the Madelon dataset created by Isabelle Guyon, one of the ideators of the Support Vector Machines (see for Guyon's contribution: https://www.kdnuggets.com/2016/07/guyon-data-mining-history-svm-support-vector-machines.html for the Madelon dataset see instead: https://archive.ics.uci.edu/ml/datasets/madelon).\n",
    "\n",
    "I therefore tried to stratifiy my folds based on a k-means clustering of the non-noisy data (see https://www.kaggle.com/c/30-days-of-ml/discussion/267931) and my local cv has become more reliable (very correlated with the public leaderboard) and my models are performing much better with cv prediction.\n",
    "\n",
    "Try it and let me know, if it works also on your models!\n",
    "\n",
    "Happy Kaggling!"
   ]
  },
  {
   "cell_type": "code",
   "execution_count": 1,
   "id": "d2a249d5",
   "metadata": {
    "execution": {
     "iopub.execute_input": "2021-08-28T08:26:37.864602Z",
     "iopub.status.busy": "2021-08-28T08:26:37.863960Z",
     "iopub.status.idle": "2021-08-28T08:26:39.058110Z",
     "shell.execute_reply": "2021-08-28T08:26:39.058630Z",
     "shell.execute_reply.started": "2021-08-28T08:24:25.697083Z"
    },
    "papermill": {
     "duration": 1.219105,
     "end_time": "2021-08-28T08:26:39.058924",
     "exception": false,
     "start_time": "2021-08-28T08:26:37.839819",
     "status": "completed"
    },
    "tags": []
   },
   "outputs": [],
   "source": [
    "# Importing core libraries\n",
    "import numpy as np\n",
    "import pandas as pd\n",
    "import joblib\n",
    "\n",
    "# Importing from Scikit-Learn\n",
    "from sklearn.model_selection import StratifiedKFold, KFold\n",
    "from sklearn.preprocessing import OrdinalEncoder\n",
    "from sklearn.cluster import KMeans\n",
    "from sklearn.decomposition import PCA"
   ]
  },
  {
   "cell_type": "code",
   "execution_count": 2,
   "id": "e16103e6",
   "metadata": {
    "execution": {
     "iopub.execute_input": "2021-08-28T08:26:39.086363Z",
     "iopub.status.busy": "2021-08-28T08:26:39.085629Z",
     "iopub.status.idle": "2021-08-28T08:26:42.607427Z",
     "shell.execute_reply": "2021-08-28T08:26:42.606872Z",
     "shell.execute_reply.started": "2021-08-28T08:24:26.955156Z"
    },
    "papermill": {
     "duration": 3.537502,
     "end_time": "2021-08-28T08:26:42.607573",
     "exception": false,
     "start_time": "2021-08-28T08:26:39.070071",
     "status": "completed"
    },
    "tags": []
   },
   "outputs": [],
   "source": [
    "# Loading data \n",
    "X_train = pd.read_csv(\"../input/30-days-of-ml/train.csv\")\n",
    "X_test = pd.read_csv(\"../input/30-days-of-ml/test.csv\")"
   ]
  },
  {
   "cell_type": "code",
   "execution_count": 3,
   "id": "0d323dd3",
   "metadata": {
    "execution": {
     "iopub.execute_input": "2021-08-28T08:26:42.638298Z",
     "iopub.status.busy": "2021-08-28T08:26:42.637676Z",
     "iopub.status.idle": "2021-08-28T08:26:42.753594Z",
     "shell.execute_reply": "2021-08-28T08:26:42.754120Z",
     "shell.execute_reply.started": "2021-08-28T08:24:31.137704Z"
    },
    "papermill": {
     "duration": 0.135618,
     "end_time": "2021-08-28T08:26:42.754302",
     "exception": false,
     "start_time": "2021-08-28T08:26:42.618684",
     "status": "completed"
    },
    "tags": []
   },
   "outputs": [],
   "source": [
    "# Preparing data as a tabular matrix\n",
    "y_train = X_train.target\n",
    "X_train = X_train.set_index('id').drop('target', axis='columns')\n",
    "X_test = X_test.set_index('id')"
   ]
  },
  {
   "cell_type": "code",
   "execution_count": 4,
   "id": "ab378fb1",
   "metadata": {
    "execution": {
     "iopub.execute_input": "2021-08-28T08:26:42.779339Z",
     "iopub.status.busy": "2021-08-28T08:26:42.778738Z",
     "iopub.status.idle": "2021-08-28T08:26:42.782156Z",
     "shell.execute_reply": "2021-08-28T08:26:42.782632Z",
     "shell.execute_reply.started": "2021-08-28T08:24:31.266246Z"
    },
    "papermill": {
     "duration": 0.017389,
     "end_time": "2021-08-28T08:26:42.782781",
     "exception": false,
     "start_time": "2021-08-28T08:26:42.765392",
     "status": "completed"
    },
    "tags": []
   },
   "outputs": [],
   "source": [
    "# Pointing out categorical features\n",
    "categoricals = [item for item in X_train.columns if 'cat' in item]"
   ]
  },
  {
   "cell_type": "code",
   "execution_count": 5,
   "id": "ba46c6dd",
   "metadata": {
    "execution": {
     "iopub.execute_input": "2021-08-28T08:26:42.808013Z",
     "iopub.status.busy": "2021-08-28T08:26:42.807163Z",
     "iopub.status.idle": "2021-08-28T08:26:43.551030Z",
     "shell.execute_reply": "2021-08-28T08:26:43.551556Z",
     "shell.execute_reply.started": "2021-08-28T08:24:31.272318Z"
    },
    "papermill": {
     "duration": 0.757937,
     "end_time": "2021-08-28T08:26:43.551742",
     "exception": false,
     "start_time": "2021-08-28T08:26:42.793805",
     "status": "completed"
    },
    "tags": []
   },
   "outputs": [],
   "source": [
    "# Dealing with categorical data using get_dummies\n",
    "dummies = pd.get_dummies(X_train.append(X_test)[categoricals])\n",
    "X_train[dummies.columns] = dummies.iloc[:len(X_train), :]\n",
    "X_test[dummies.columns] = dummies.iloc[len(X_train): , :]\n",
    "del(dummies)"
   ]
  },
  {
   "cell_type": "code",
   "execution_count": 6,
   "id": "49dcb8bb",
   "metadata": {
    "execution": {
     "iopub.execute_input": "2021-08-28T08:26:43.581342Z",
     "iopub.status.busy": "2021-08-28T08:26:43.580666Z",
     "iopub.status.idle": "2021-08-28T08:26:46.782103Z",
     "shell.execute_reply": "2021-08-28T08:26:46.781448Z",
     "shell.execute_reply.started": "2021-08-28T08:24:32.051205Z"
    },
    "papermill": {
     "duration": 3.219537,
     "end_time": "2021-08-28T08:26:46.782266",
     "exception": false,
     "start_time": "2021-08-28T08:26:43.562729",
     "status": "completed"
    },
    "tags": []
   },
   "outputs": [],
   "source": [
    "# Dealing with categorical data using OrdinalEncoder (only when there are 3 or more levels)\n",
    "ordinal_encoder = OrdinalEncoder()\n",
    "X_train[categoricals[3:]] = ordinal_encoder.fit_transform(X_train[categoricals[3:]]).astype(int)\n",
    "X_test[categoricals[3:]] = ordinal_encoder.transform(X_test[categoricals[3:]]).astype(int)\n",
    "X_train = X_train.drop(categoricals[:3], axis=\"columns\")\n",
    "X_test = X_test.drop(categoricals[:3], axis=\"columns\")"
   ]
  },
  {
   "cell_type": "code",
   "execution_count": 7,
   "id": "776bbd15",
   "metadata": {
    "execution": {
     "iopub.execute_input": "2021-08-28T08:26:46.810564Z",
     "iopub.status.busy": "2021-08-28T08:26:46.809877Z",
     "iopub.status.idle": "2021-08-28T08:26:46.830084Z",
     "shell.execute_reply": "2021-08-28T08:26:46.829066Z",
     "shell.execute_reply.started": "2021-08-28T08:24:35.273266Z"
    },
    "papermill": {
     "duration": 0.03717,
     "end_time": "2021-08-28T08:26:46.830409",
     "exception": false,
     "start_time": "2021-08-28T08:26:46.793239",
     "status": "completed"
    },
    "tags": []
   },
   "outputs": [],
   "source": [
    "# Feature selection (https://www.kaggle.com/lucamassaron/tutorial-feature-selection-with-boruta-shap)\n",
    "important_features = ['cat1_A', 'cat1_B', 'cat5', 'cat8', 'cat8_C', 'cat8_E', 'cont0', \n",
    "                      'cont1', 'cont10', 'cont11', 'cont12', 'cont13', 'cont2', 'cont3', \n",
    "                      'cont4', 'cont5', 'cont6', 'cont7', 'cont8', 'cont9']\n",
    "\n",
    "categoricals = ['cat5', 'cat8']\n",
    "\n",
    "X_train = X_train[important_features]\n",
    "X_test = X_test[important_features]"
   ]
  },
  {
   "cell_type": "code",
   "execution_count": 8,
   "id": "cc15afc9",
   "metadata": {
    "execution": {
     "iopub.execute_input": "2021-08-28T08:26:46.865274Z",
     "iopub.status.busy": "2021-08-28T08:26:46.864016Z",
     "iopub.status.idle": "2021-08-28T08:27:23.517570Z",
     "shell.execute_reply": "2021-08-28T08:27:23.518133Z",
     "shell.execute_reply.started": "2021-08-28T08:24:35.296576Z"
    },
    "papermill": {
     "duration": 36.673174,
     "end_time": "2021-08-28T08:27:23.518352",
     "exception": false,
     "start_time": "2021-08-28T08:26:46.845178",
     "status": "completed"
    },
    "tags": []
   },
   "outputs": [
    {
     "name": "stdout",
     "output_type": "stream",
     "text": [
      "(array([ 0,  1,  2,  3,  4,  5,  6,  7,  8,  9, 10, 11, 12, 13, 14, 15, 16,\n",
      "       17, 18, 19, 20, 21, 22, 23, 24, 25, 26, 27, 28, 29, 30, 31],\n",
      "      dtype=int32), array([ 8885, 23161, 18215, 13810, 13461, 18955,  8334,  8874,  3903,\n",
      "       11152,  8617,  3471,  8492, 10460,  2726,  3428, 12002,  8632,\n",
      "        7151,  7087, 14235, 10591,  2337, 12269,  3762, 10066,  1579,\n",
      "       14104, 14622,  2005,  7083,  6531]))\n"
     ]
    }
   ],
   "source": [
    "# Stratifying the data\n",
    "\n",
    "pca = PCA(n_components=16, random_state=0)\n",
    "km = KMeans(n_clusters=32, random_state=0)\n",
    "\n",
    "pca.fit(X_train)\n",
    "km.fit(pca.transform(X_train))\n",
    "\n",
    "print(np.unique(km.labels_, return_counts=True))\n",
    "\n",
    "y_stratified = km.labels_"
   ]
  },
  {
   "cell_type": "code",
   "execution_count": 9,
   "id": "bc99bcf6",
   "metadata": {
    "execution": {
     "iopub.execute_input": "2021-08-28T08:27:23.552975Z",
     "iopub.status.busy": "2021-08-28T08:27:23.552045Z",
     "iopub.status.idle": "2021-08-28T08:27:23.864059Z",
     "shell.execute_reply": "2021-08-28T08:27:23.864578Z",
     "shell.execute_reply.started": "2021-08-28T08:25:11.831373Z"
    },
    "papermill": {
     "duration": 0.33244,
     "end_time": "2021-08-28T08:27:23.864761",
     "exception": false,
     "start_time": "2021-08-28T08:27:23.532321",
     "status": "completed"
    },
    "tags": []
   },
   "outputs": [],
   "source": [
    "# Creating your folds for repeated use (for instance, stacking)\n",
    "\n",
    "folds = 10\n",
    "seeds = [42, 0, 101]\n",
    "fold_idxs = list()\n",
    "\n",
    "for seed in seeds:\n",
    "    skf = StratifiedKFold(n_splits=folds,\n",
    "                          shuffle=True, \n",
    "                          random_state=seed)\n",
    "\n",
    "    fold_idxs.append(list(skf.split(X_train, y_stratified)))"
   ]
  },
  {
   "cell_type": "code",
   "execution_count": 10,
   "id": "cb7e4fe9",
   "metadata": {
    "execution": {
     "iopub.execute_input": "2021-08-28T08:27:23.905375Z",
     "iopub.status.busy": "2021-08-28T08:27:23.904371Z",
     "iopub.status.idle": "2021-08-28T08:27:23.909123Z",
     "shell.execute_reply": "2021-08-28T08:27:23.909803Z",
     "shell.execute_reply.started": "2021-08-28T08:26:09.310521Z"
    },
    "papermill": {
     "duration": 0.031026,
     "end_time": "2021-08-28T08:27:23.910009",
     "exception": false,
     "start_time": "2021-08-28T08:27:23.878983",
     "status": "completed"
    },
    "tags": []
   },
   "outputs": [
    {
     "name": "stdout",
     "output_type": "stream",
     "text": [
      "\n",
      "--- seed=42 ---\n",
      "fold 0 train idxs: 270000 validation idxs: 30000 -> [ 1 17 21 26 31 34 38 40 54 62]\n",
      "fold 1 train idxs: 270000 validation idxs: 30000 -> [ 2 11 27 33 44 45 48 52 63 64]\n",
      "fold 2 train idxs: 270000 validation idxs: 30000 -> [ 4  5 12 15 23 39 42 53 58 82]\n",
      "fold 3 train idxs: 270000 validation idxs: 30000 -> [16 19 29 30 55 57 66 72 75 78]\n",
      "fold 4 train idxs: 270000 validation idxs: 30000 -> [ 10  13  18  71  80  94  98 103 120 133]\n",
      "fold 5 train idxs: 270000 validation idxs: 30000 -> [ 6  8 22 24 25 28 32 61 83 85]\n",
      "fold 6 train idxs: 270000 validation idxs: 30000 -> [ 41  50  59  65  67  74  90  92 102 134]\n",
      "fold 7 train idxs: 270000 validation idxs: 30000 -> [ 0  3 14 36 56 73 87 93 97 99]\n",
      "fold 8 train idxs: 270000 validation idxs: 30000 -> [  9  37  46  47  69  76  77  96 115 123]\n",
      "fold 9 train idxs: 270000 validation idxs: 30000 -> [ 7 20 35 43 49 51 60 68 70 86]\n",
      "\n",
      "--- seed=0 ---\n",
      "fold 0 train idxs: 270000 validation idxs: 30000 -> [  4  17  26  31  41  56  66  96 102 125]\n",
      "fold 1 train idxs: 270000 validation idxs: 30000 -> [13 18 28 29 34 40 47 49 65 68]\n",
      "fold 2 train idxs: 270000 validation idxs: 30000 -> [  1   6  32  37  38  50  73  79 100 116]\n",
      "fold 3 train idxs: 270000 validation idxs: 30000 -> [ 3  5 12 15 23 24 25 63 74 78]\n",
      "fold 4 train idxs: 270000 validation idxs: 30000 -> [ 7  9 14 16 44 48 52 64 70 90]\n",
      "fold 5 train idxs: 270000 validation idxs: 30000 -> [ 0 19 27 33 36 58 67 83 88 92]\n",
      "fold 6 train idxs: 270000 validation idxs: 30000 -> [ 11  51  87  89 101 114 121 131 142 146]\n",
      "fold 7 train idxs: 270000 validation idxs: 30000 -> [ 2 30 43 46 54 61 69 72 76 86]\n",
      "fold 8 train idxs: 270000 validation idxs: 30000 -> [ 8 10 22 55 57 59 60 62 80 81]\n",
      "fold 9 train idxs: 270000 validation idxs: 30000 -> [ 20  21  35  39  42  45  53  75  84 107]\n",
      "\n",
      "--- seed=101 ---\n",
      "fold 0 train idxs: 270000 validation idxs: 30000 -> [19 31 34 37 38 41 52 71 79 81]\n",
      "fold 1 train idxs: 270000 validation idxs: 30000 -> [10 20 27 29 30 46 49 55 61 66]\n",
      "fold 2 train idxs: 270000 validation idxs: 30000 -> [17 23 35 36 44 54 56 83 91 99]\n",
      "fold 3 train idxs: 270000 validation idxs: 30000 -> [ 5 21 28 47 50 62 70 77 78 80]\n",
      "fold 4 train idxs: 270000 validation idxs: 30000 -> [ 14  18  25  64  72  73 100 112 113 127]\n",
      "fold 5 train idxs: 270000 validation idxs: 30000 -> [  9  16  32  45  59  65  68  84 103 130]\n",
      "fold 6 train idxs: 270000 validation idxs: 30000 -> [  0   1   2   6  12  15  24  33  48 101]\n",
      "fold 7 train idxs: 270000 validation idxs: 30000 -> [ 11  53  75  76  87 104 106 120 132 133]\n",
      "fold 8 train idxs: 270000 validation idxs: 30000 -> [ 3  4  8 13 22 26 42 51 63 88]\n",
      "fold 9 train idxs: 270000 validation idxs: 30000 -> [  7  39  40  43  57  58  60  92 109 117]\n"
     ]
    }
   ],
   "source": [
    "# Checking the produced folds\n",
    "for j, fold_idxs_ in enumerate(fold_idxs):\n",
    "    print(f\"\\n--- seed={seeds[j]} ---\")\n",
    "    for k, (train_idx, validation_idx) in enumerate(fold_idxs_):\n",
    "        print(f\"fold {k} train idxs: {len(train_idx)} validation idxs: {len(validation_idx)} -> {validation_idx[:10]}\")"
   ]
  },
  {
   "cell_type": "code",
   "execution_count": 11,
   "id": "069ac268",
   "metadata": {
    "execution": {
     "iopub.execute_input": "2021-08-28T08:27:23.950941Z",
     "iopub.status.busy": "2021-08-28T08:27:23.949834Z",
     "iopub.status.idle": "2021-08-28T08:27:24.035945Z",
     "shell.execute_reply": "2021-08-28T08:27:24.036877Z"
    },
    "papermill": {
     "duration": 0.112912,
     "end_time": "2021-08-28T08:27:24.037105",
     "exception": false,
     "start_time": "2021-08-28T08:27:23.924193",
     "status": "completed"
    },
    "tags": []
   },
   "outputs": [
    {
     "data": {
      "text/plain": [
       "['./fold_idxs.job']"
      ]
     },
     "execution_count": 11,
     "metadata": {},
     "output_type": "execute_result"
    }
   ],
   "source": [
    "# Storing into the notebook for future use\n",
    "joblib.dump(fold_idxs, './fold_idxs.job')"
   ]
  },
  {
   "cell_type": "code",
   "execution_count": 12,
   "id": "ad9fb08d",
   "metadata": {
    "execution": {
     "iopub.execute_input": "2021-08-28T08:27:24.088305Z",
     "iopub.status.busy": "2021-08-28T08:27:24.087532Z",
     "iopub.status.idle": "2021-08-28T08:27:24.144408Z",
     "shell.execute_reply": "2021-08-28T08:27:24.145445Z"
    },
    "papermill": {
     "duration": 0.092111,
     "end_time": "2021-08-28T08:27:24.145651",
     "exception": false,
     "start_time": "2021-08-28T08:27:24.053540",
     "status": "completed"
    },
    "tags": []
   },
   "outputs": [],
   "source": [
    "# Retrieving from the notebook\n",
    "fold_idxs = joblib.load('./fold_idxs.job')"
   ]
  }
 ],
 "metadata": {
  "kernelspec": {
   "display_name": "Python 3",
   "language": "python",
   "name": "python3"
  },
  "language_info": {
   "codemirror_mode": {
    "name": "ipython",
    "version": 3
   },
   "file_extension": ".py",
   "mimetype": "text/x-python",
   "name": "python",
   "nbconvert_exporter": "python",
   "pygments_lexer": "ipython3",
   "version": "3.7.10"
  },
  "papermill": {
   "default_parameters": {},
   "duration": 55.794238,
   "end_time": "2021-08-28T08:27:25.819487",
   "environment_variables": {},
   "exception": null,
   "input_path": "__notebook__.ipynb",
   "output_path": "__notebook__.ipynb",
   "parameters": {},
   "start_time": "2021-08-28T08:26:30.025249",
   "version": "2.3.3"
  }
 },
 "nbformat": 4,
 "nbformat_minor": 5
}
