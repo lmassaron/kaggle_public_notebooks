{
 "cells": [
  {
   "cell_type": "code",
   "execution_count": 1,
   "id": "9c1edf87",
   "metadata": {
    "_cell_guid": "b1076dfc-b9ad-4769-8c92-a6c4dae69d19",
    "_uuid": "8f2839f25d086af736a60e9eeb907d3b93b6e0e5",
    "execution": {
     "iopub.execute_input": "2021-08-27T10:25:48.743192Z",
     "iopub.status.busy": "2021-08-27T10:25:48.741937Z",
     "iopub.status.idle": "2021-08-27T10:25:48.755172Z",
     "shell.execute_reply": "2021-08-27T10:25:48.755718Z"
    },
    "papermill": {
     "duration": 0.030931,
     "end_time": "2021-08-27T10:25:48.756014",
     "exception": false,
     "start_time": "2021-08-27T10:25:48.725083",
     "status": "completed"
    },
    "tags": []
   },
   "outputs": [
    {
     "name": "stdout",
     "output_type": "stream",
     "text": [
      "/kaggle/input/30-days-of-ml/sample_submission.csv\n",
      "/kaggle/input/30-days-of-ml/train.csv\n",
      "/kaggle/input/30-days-of-ml/test.csv\n"
     ]
    }
   ],
   "source": [
    "# This Python 3 environment comes with many helpful analytics libraries installed\n",
    "# It is defined by the kaggle/python Docker image: https://github.com/kaggle/docker-python\n",
    "# For example, here's several helpful packages to load\n",
    "\n",
    "import numpy as np # linear algebra\n",
    "import pandas as pd # data processing, CSV file I/O (e.g. pd.read_csv)\n",
    "\n",
    "# Input data files are available in the read-only \"../input/\" directory\n",
    "# For example, running this (by clicking run or pressing Shift+Enter) will list all files under the input directory\n",
    "\n",
    "import os\n",
    "for dirname, _, filenames in os.walk('/kaggle/input'):\n",
    "    for filename in filenames:\n",
    "        print(os.path.join(dirname, filename))\n",
    "\n",
    "# You can write up to 20GB to the current directory (/kaggle/working/) that gets preserved as output when you create a version using \"Save & Run All\" \n",
    "# You can also write temporary files to /kaggle/temp/, but they won't be saved outside of the current session"
   ]
  },
  {
   "cell_type": "markdown",
   "id": "fde8b04b",
   "metadata": {
    "papermill": {
     "duration": 0.01206,
     "end_time": "2021-08-27T10:25:48.781335",
     "exception": false,
     "start_time": "2021-08-27T10:25:48.769275",
     "status": "completed"
    },
    "tags": []
   },
   "source": [
    "# Installing and Importing Packages\n",
    "\n",
    "First install following packages:\n",
    "1. [CTGAN](https://pypi.org/project/ctgan/)\n",
    "2. [SDV](https://pypi.org/project/sdv/)"
   ]
  },
  {
   "cell_type": "code",
   "execution_count": 2,
   "id": "9b922ff4",
   "metadata": {
    "execution": {
     "iopub.execute_input": "2021-08-27T10:25:48.821987Z",
     "iopub.status.busy": "2021-08-27T10:25:48.810784Z",
     "iopub.status.idle": "2021-08-27T10:26:40.534854Z",
     "shell.execute_reply": "2021-08-27T10:26:40.535366Z"
    },
    "papermill": {
     "duration": 51.741963,
     "end_time": "2021-08-27T10:26:40.535561",
     "exception": false,
     "start_time": "2021-08-27T10:25:48.793598",
     "status": "completed"
    },
    "tags": []
   },
   "outputs": [
    {
     "name": "stdout",
     "output_type": "stream",
     "text": [
      "Collecting ctgan\r\n",
      "  Downloading ctgan-0.4.3-py2.py3-none-any.whl (21 kB)\r\n",
      "Requirement already satisfied: scikit-learn<1,>=0.23 in /opt/conda/lib/python3.7/site-packages (from ctgan) (0.23.2)\r\n",
      "Requirement already satisfied: packaging in /opt/conda/lib/python3.7/site-packages (from ctgan) (20.9)\r\n",
      "Requirement already satisfied: torchvision<1,>=0.5.0 in /opt/conda/lib/python3.7/site-packages (from ctgan) (0.8.1)\r\n",
      "Requirement already satisfied: numpy<2,>=1.18.0 in /opt/conda/lib/python3.7/site-packages (from ctgan) (1.19.5)\r\n",
      "Requirement already satisfied: torch<2,>=1.4 in /opt/conda/lib/python3.7/site-packages (from ctgan) (1.7.0)\r\n",
      "Collecting pandas<1.1.5,>=1.1\r\n",
      "  Downloading pandas-1.1.4-cp37-cp37m-manylinux1_x86_64.whl (9.5 MB)\r\n",
      "\u001b[K     |████████████████████████████████| 9.5 MB 1.7 MB/s \r\n",
      "\u001b[?25hCollecting rdt<0.6,>=0.5.0\r\n",
      "  Downloading rdt-0.5.2-py2.py3-none-any.whl (23 kB)\r\n",
      "Requirement already satisfied: python-dateutil>=2.7.3 in /opt/conda/lib/python3.7/site-packages (from pandas<1.1.5,>=1.1->ctgan) (2.8.1)\r\n",
      "Requirement already satisfied: pytz>=2017.2 in /opt/conda/lib/python3.7/site-packages (from pandas<1.1.5,>=1.1->ctgan) (2021.1)\r\n",
      "Requirement already satisfied: six>=1.5 in /opt/conda/lib/python3.7/site-packages (from python-dateutil>=2.7.3->pandas<1.1.5,>=1.1->ctgan) (1.15.0)\r\n",
      "Requirement already satisfied: scipy<2,>=1.4.1 in /opt/conda/lib/python3.7/site-packages (from rdt<0.6,>=0.5.0->ctgan) (1.6.3)\r\n",
      "Requirement already satisfied: psutil<6,>=5.7 in /opt/conda/lib/python3.7/site-packages (from rdt<0.6,>=0.5.0->ctgan) (5.8.0)\r\n",
      "Requirement already satisfied: joblib>=0.11 in /opt/conda/lib/python3.7/site-packages (from scikit-learn<1,>=0.23->ctgan) (1.0.1)\r\n",
      "Requirement already satisfied: threadpoolctl>=2.0.0 in /opt/conda/lib/python3.7/site-packages (from scikit-learn<1,>=0.23->ctgan) (2.1.0)\r\n",
      "Requirement already satisfied: future in /opt/conda/lib/python3.7/site-packages (from torch<2,>=1.4->ctgan) (0.18.2)\r\n",
      "Requirement already satisfied: typing_extensions in /opt/conda/lib/python3.7/site-packages (from torch<2,>=1.4->ctgan) (3.7.4.3)\r\n",
      "Requirement already satisfied: dataclasses in /opt/conda/lib/python3.7/site-packages (from torch<2,>=1.4->ctgan) (0.6)\r\n",
      "Requirement already satisfied: pillow>=4.1.1 in /opt/conda/lib/python3.7/site-packages (from torchvision<1,>=0.5.0->ctgan) (8.2.0)\r\n",
      "Requirement already satisfied: pyparsing>=2.0.2 in /opt/conda/lib/python3.7/site-packages (from packaging->ctgan) (2.4.7)\r\n",
      "Installing collected packages: pandas, rdt, ctgan\r\n",
      "  Attempting uninstall: pandas\r\n",
      "    Found existing installation: pandas 1.2.4\r\n",
      "    Uninstalling pandas-1.2.4:\r\n",
      "      Successfully uninstalled pandas-1.2.4\r\n",
      "\u001b[31mERROR: pip's dependency resolver does not currently take into account all the packages that are installed. This behaviour is the source of the following dependency conflicts.\r\n",
      "pyldavis 3.3.1 requires numpy>=1.20.0, but you have numpy 1.19.5 which is incompatible.\r\n",
      "pyldavis 3.3.1 requires pandas>=1.2.0, but you have pandas 1.1.4 which is incompatible.\r\n",
      "pdpbox 0.2.1 requires matplotlib==3.1.1, but you have matplotlib 3.4.2 which is incompatible.\r\n",
      "featuretools 0.25.0 requires pandas<2.0.0,>=1.2.0, but you have pandas 1.1.4 which is incompatible.\u001b[0m\r\n",
      "Successfully installed ctgan-0.4.3 pandas-1.1.4 rdt-0.5.2\r\n",
      "\u001b[33mWARNING: Running pip as root will break packages and permissions. You should install packages reliably by using venv: https://pip.pypa.io/warnings/venv\u001b[0m\r\n",
      "Collecting sdv\r\n",
      "  Downloading sdv-0.12.0-py2.py3-none-any.whl (88 kB)\r\n",
      "\u001b[K     |████████████████████████████████| 88 kB 356 kB/s \r\n",
      "\u001b[?25hCollecting sdmetrics<0.4,>=0.3.1\r\n",
      "  Downloading sdmetrics-0.3.2-py2.py3-none-any.whl (95 kB)\r\n",
      "\u001b[K     |████████████████████████████████| 95 kB 1.0 MB/s \r\n",
      "\u001b[?25hRequirement already satisfied: numpy<2,>=1.18.0 in /opt/conda/lib/python3.7/site-packages (from sdv) (1.19.5)\r\n",
      "Requirement already satisfied: rdt<0.6,>=0.5.0 in /opt/conda/lib/python3.7/site-packages (from sdv) (0.5.2)\r\n",
      "Collecting Faker<4.15,>=1.0.1\r\n",
      "  Downloading Faker-4.14.2-py3-none-any.whl (1.1 MB)\r\n",
      "\u001b[K     |████████████████████████████████| 1.1 MB 2.0 MB/s \r\n",
      "\u001b[?25hCollecting sktime<0.6,>=0.4\r\n",
      "  Downloading sktime-0.5.3-cp37-cp37m-manylinux2014_x86_64.whl (5.7 MB)\r\n",
      "\u001b[K     |████████████████████████████████| 5.7 MB 17.7 MB/s \r\n",
      "\u001b[?25hCollecting pomegranate<0.14.2,>=0.13.4\r\n",
      "  Downloading pomegranate-0.14.1-cp37-cp37m-manylinux2010_x86_64.whl (17.9 MB)\r\n",
      "\u001b[K     |████████████████████████████████| 17.9 MB 850 kB/s \r\n",
      "\u001b[?25hRequirement already satisfied: torch<2,>=1.4 in /opt/conda/lib/python3.7/site-packages (from sdv) (1.7.0)\r\n",
      "Requirement already satisfied: ctgan<0.5,>=0.4.3 in /opt/conda/lib/python3.7/site-packages (from sdv) (0.4.3)\r\n",
      "Requirement already satisfied: tqdm<5,>=4.14 in /opt/conda/lib/python3.7/site-packages (from sdv) (4.61.1)\r\n",
      "Requirement already satisfied: torchvision<1,>=0.5.0 in /opt/conda/lib/python3.7/site-packages (from sdv) (0.8.1)\r\n",
      "Collecting graphviz<1,>=0.13.2\r\n",
      "  Downloading graphviz-0.17-py3-none-any.whl (18 kB)\r\n",
      "Collecting copulas<0.6,>=0.5.0\r\n",
      "  Downloading copulas-0.5.1-py2.py3-none-any.whl (50 kB)\r\n",
      "\u001b[K     |████████████████████████████████| 50 kB 5.6 MB/s \r\n",
      "\u001b[?25hCollecting deepecho<0.3,>=0.2.0\r\n",
      "  Downloading deepecho-0.2.0-py2.py3-none-any.whl (26 kB)\r\n",
      "Requirement already satisfied: pandas<1.1.5,>=1.1 in /opt/conda/lib/python3.7/site-packages (from sdv) (1.1.4)\r\n",
      "Requirement already satisfied: scipy<2,>=1.4.1 in /opt/conda/lib/python3.7/site-packages (from copulas<0.6,>=0.5.0->sdv) (1.6.3)\r\n",
      "Requirement already satisfied: matplotlib<4,>=3.2.0 in /opt/conda/lib/python3.7/site-packages (from copulas<0.6,>=0.5.0->sdv) (3.4.2)\r\n",
      "Requirement already satisfied: scikit-learn<1,>=0.23 in /opt/conda/lib/python3.7/site-packages (from ctgan<0.5,>=0.4.3->sdv) (0.23.2)\r\n",
      "Requirement already satisfied: packaging in /opt/conda/lib/python3.7/site-packages (from ctgan<0.5,>=0.4.3->sdv) (20.9)\r\n",
      "Requirement already satisfied: python-dateutil>=2.4 in /opt/conda/lib/python3.7/site-packages (from Faker<4.15,>=1.0.1->sdv) (2.8.1)\r\n",
      "Requirement already satisfied: text-unidecode==1.3 in /opt/conda/lib/python3.7/site-packages (from Faker<4.15,>=1.0.1->sdv) (1.3)\r\n",
      "Requirement already satisfied: kiwisolver>=1.0.1 in /opt/conda/lib/python3.7/site-packages (from matplotlib<4,>=3.2.0->copulas<0.6,>=0.5.0->sdv) (1.3.1)\r\n",
      "Requirement already satisfied: pillow>=6.2.0 in /opt/conda/lib/python3.7/site-packages (from matplotlib<4,>=3.2.0->copulas<0.6,>=0.5.0->sdv) (8.2.0)\r\n",
      "Requirement already satisfied: pyparsing>=2.2.1 in /opt/conda/lib/python3.7/site-packages (from matplotlib<4,>=3.2.0->copulas<0.6,>=0.5.0->sdv) (2.4.7)\r\n",
      "Requirement already satisfied: cycler>=0.10 in /opt/conda/lib/python3.7/site-packages (from matplotlib<4,>=3.2.0->copulas<0.6,>=0.5.0->sdv) (0.10.0)\r\n",
      "Requirement already satisfied: six in /opt/conda/lib/python3.7/site-packages (from cycler>=0.10->matplotlib<4,>=3.2.0->copulas<0.6,>=0.5.0->sdv) (1.15.0)\r\n",
      "Requirement already satisfied: pytz>=2017.2 in /opt/conda/lib/python3.7/site-packages (from pandas<1.1.5,>=1.1->sdv) (2021.1)\r\n",
      "Requirement already satisfied: joblib>=0.9.0b4 in /opt/conda/lib/python3.7/site-packages (from pomegranate<0.14.2,>=0.13.4->sdv) (1.0.1)\r\n",
      "Requirement already satisfied: pyyaml in /opt/conda/lib/python3.7/site-packages (from pomegranate<0.14.2,>=0.13.4->sdv) (5.4.1)\r\n",
      "Requirement already satisfied: networkx>=2.0 in /opt/conda/lib/python3.7/site-packages (from pomegranate<0.14.2,>=0.13.4->sdv) (2.5)\r\n",
      "Requirement already satisfied: decorator>=4.3.0 in /opt/conda/lib/python3.7/site-packages (from networkx>=2.0->pomegranate<0.14.2,>=0.13.4->sdv) (5.0.9)\r\n",
      "Requirement already satisfied: psutil<6,>=5.7 in /opt/conda/lib/python3.7/site-packages (from rdt<0.6,>=0.5.0->sdv) (5.8.0)\r\n",
      "Requirement already satisfied: threadpoolctl>=2.0.0 in /opt/conda/lib/python3.7/site-packages (from scikit-learn<1,>=0.23->ctgan<0.5,>=0.4.3->sdv) (2.1.0)\r\n",
      "Requirement already satisfied: statsmodels>=0.12.1 in /opt/conda/lib/python3.7/site-packages (from sktime<0.6,>=0.4->sdv) (0.12.2)\r\n",
      "Requirement already satisfied: numba>=0.50 in /opt/conda/lib/python3.7/site-packages (from sktime<0.6,>=0.4->sdv) (0.53.1)\r\n",
      "Requirement already satisfied: wheel in /opt/conda/lib/python3.7/site-packages (from sktime<0.6,>=0.4->sdv) (0.36.2)\r\n",
      "Requirement already satisfied: llvmlite<0.37,>=0.36.0rc1 in /opt/conda/lib/python3.7/site-packages (from numba>=0.50->sktime<0.6,>=0.4->sdv) (0.36.0)\r\n",
      "Requirement already satisfied: setuptools in /opt/conda/lib/python3.7/site-packages (from numba>=0.50->sktime<0.6,>=0.4->sdv) (49.6.0.post20210108)\r\n",
      "Requirement already satisfied: patsy>=0.5 in /opt/conda/lib/python3.7/site-packages (from statsmodels>=0.12.1->sktime<0.6,>=0.4->sdv) (0.5.1)\r\n",
      "Requirement already satisfied: future in /opt/conda/lib/python3.7/site-packages (from torch<2,>=1.4->sdv) (0.18.2)\r\n",
      "Requirement already satisfied: typing_extensions in /opt/conda/lib/python3.7/site-packages (from torch<2,>=1.4->sdv) (3.7.4.3)\r\n",
      "Requirement already satisfied: dataclasses in /opt/conda/lib/python3.7/site-packages (from torch<2,>=1.4->sdv) (0.6)\r\n",
      "Installing collected packages: sktime, copulas, sdmetrics, pomegranate, graphviz, Faker, deepecho, sdv\r\n",
      "  Attempting uninstall: graphviz\r\n",
      "    Found existing installation: graphviz 0.8.4\r\n",
      "    Uninstalling graphviz-0.8.4:\r\n",
      "      Successfully uninstalled graphviz-0.8.4\r\n",
      "\u001b[31mERROR: pip's dependency resolver does not currently take into account all the packages that are installed. This behaviour is the source of the following dependency conflicts.\r\n",
      "mxnet 1.8.0.post0 requires graphviz<0.9.0,>=0.8.1, but you have graphviz 0.17 which is incompatible.\u001b[0m\r\n",
      "Successfully installed Faker-4.14.2 copulas-0.5.1 deepecho-0.2.0 graphviz-0.17 pomegranate-0.14.1 sdmetrics-0.3.2 sdv-0.12.0 sktime-0.5.3\r\n",
      "\u001b[33mWARNING: Running pip as root will break packages and permissions. You should install packages reliably by using venv: https://pip.pypa.io/warnings/venv\u001b[0m\r\n"
     ]
    }
   ],
   "source": [
    "!pip install ctgan\n",
    "!pip install sdv"
   ]
  },
  {
   "cell_type": "markdown",
   "id": "369ab210",
   "metadata": {
    "papermill": {
     "duration": 0.051995,
     "end_time": "2021-08-27T10:26:40.640285",
     "exception": false,
     "start_time": "2021-08-27T10:26:40.588290",
     "status": "completed"
    },
    "tags": []
   },
   "source": [
    "Now import required tools:"
   ]
  },
  {
   "cell_type": "code",
   "execution_count": 3,
   "id": "992c016b",
   "metadata": {
    "execution": {
     "iopub.execute_input": "2021-08-27T10:26:40.751123Z",
     "iopub.status.busy": "2021-08-27T10:26:40.750110Z",
     "iopub.status.idle": "2021-08-27T10:26:43.294888Z",
     "shell.execute_reply": "2021-08-27T10:26:43.293983Z"
    },
    "papermill": {
     "duration": 2.60234,
     "end_time": "2021-08-27T10:26:43.295041",
     "exception": false,
     "start_time": "2021-08-27T10:26:40.692701",
     "status": "completed"
    },
    "tags": []
   },
   "outputs": [],
   "source": [
    "from sdv.tabular import CTGAN\n",
    "from sdv.evaluation import evaluate"
   ]
  },
  {
   "cell_type": "markdown",
   "id": "35cd9ad6",
   "metadata": {
    "papermill": {
     "duration": 0.051492,
     "end_time": "2021-08-27T10:26:43.399168",
     "exception": false,
     "start_time": "2021-08-27T10:26:43.347676",
     "status": "completed"
    },
    "tags": []
   },
   "source": [
    "# Read Original Data\n",
    "\n",
    "CTAGN is generative neural network which will be trained on `train.csv`. "
   ]
  },
  {
   "cell_type": "code",
   "execution_count": 4,
   "id": "24be30c3",
   "metadata": {
    "execution": {
     "iopub.execute_input": "2021-08-27T10:26:43.508563Z",
     "iopub.status.busy": "2021-08-27T10:26:43.507690Z",
     "iopub.status.idle": "2021-08-27T10:26:46.299968Z",
     "shell.execute_reply": "2021-08-27T10:26:46.299248Z"
    },
    "papermill": {
     "duration": 2.848515,
     "end_time": "2021-08-27T10:26:46.300108",
     "exception": false,
     "start_time": "2021-08-27T10:26:43.451593",
     "status": "completed"
    },
    "tags": []
   },
   "outputs": [],
   "source": [
    "train_df = pd.read_csv('/kaggle/input/30-days-of-ml/train.csv')"
   ]
  },
  {
   "cell_type": "markdown",
   "id": "4ccc021f",
   "metadata": {
    "papermill": {
     "duration": 0.051345,
     "end_time": "2021-08-27T10:26:46.404279",
     "exception": false,
     "start_time": "2021-08-27T10:26:46.352934",
     "status": "completed"
    },
    "tags": []
   },
   "source": [
    "Drop `id` column because it is not part of original data and is more like index."
   ]
  },
  {
   "cell_type": "code",
   "execution_count": 5,
   "id": "916f4681",
   "metadata": {
    "execution": {
     "iopub.execute_input": "2021-08-27T10:26:46.511733Z",
     "iopub.status.busy": "2021-08-27T10:26:46.511028Z",
     "iopub.status.idle": "2021-08-27T10:26:46.891382Z",
     "shell.execute_reply": "2021-08-27T10:26:46.890784Z"
    },
    "papermill": {
     "duration": 0.435092,
     "end_time": "2021-08-27T10:26:46.891531",
     "exception": false,
     "start_time": "2021-08-27T10:26:46.456439",
     "status": "completed"
    },
    "tags": []
   },
   "outputs": [
    {
     "name": "stdout",
     "output_type": "stream",
     "text": [
      "<class 'pandas.core.frame.DataFrame'>\n",
      "RangeIndex: 300000 entries, 0 to 299999\n",
      "Data columns (total 25 columns):\n",
      " #   Column  Non-Null Count   Dtype  \n",
      "---  ------  --------------   -----  \n",
      " 0   cat0    300000 non-null  object \n",
      " 1   cat1    300000 non-null  object \n",
      " 2   cat2    300000 non-null  object \n",
      " 3   cat3    300000 non-null  object \n",
      " 4   cat4    300000 non-null  object \n",
      " 5   cat5    300000 non-null  object \n",
      " 6   cat6    300000 non-null  object \n",
      " 7   cat7    300000 non-null  object \n",
      " 8   cat8    300000 non-null  object \n",
      " 9   cat9    300000 non-null  object \n",
      " 10  cont0   300000 non-null  float64\n",
      " 11  cont1   300000 non-null  float64\n",
      " 12  cont2   300000 non-null  float64\n",
      " 13  cont3   300000 non-null  float64\n",
      " 14  cont4   300000 non-null  float64\n",
      " 15  cont5   300000 non-null  float64\n",
      " 16  cont6   300000 non-null  float64\n",
      " 17  cont7   300000 non-null  float64\n",
      " 18  cont8   300000 non-null  float64\n",
      " 19  cont9   300000 non-null  float64\n",
      " 20  cont10  300000 non-null  float64\n",
      " 21  cont11  300000 non-null  float64\n",
      " 22  cont12  300000 non-null  float64\n",
      " 23  cont13  300000 non-null  float64\n",
      " 24  target  300000 non-null  float64\n",
      "dtypes: float64(15), object(10)\n",
      "memory usage: 57.2+ MB\n"
     ]
    }
   ],
   "source": [
    "train_df.drop(columns=['id'], inplace=True)\n",
    "train_df.info()"
   ]
  },
  {
   "cell_type": "markdown",
   "id": "bf5a2d70",
   "metadata": {
    "papermill": {
     "duration": 0.051543,
     "end_time": "2021-08-27T10:26:46.995140",
     "exception": false,
     "start_time": "2021-08-27T10:26:46.943597",
     "status": "completed"
    },
    "tags": []
   },
   "source": [
    "# Train GAN Model"
   ]
  },
  {
   "cell_type": "markdown",
   "id": "d1141606",
   "metadata": {
    "papermill": {
     "duration": 0.052122,
     "end_time": "2021-08-27T10:26:47.100473",
     "exception": false,
     "start_time": "2021-08-27T10:26:47.048351",
     "status": "completed"
    },
    "tags": []
   },
   "source": [
    "Two important hyper-parameters are `batch_size` and `epoch`.\n",
    "\n",
    "*Notice that the value that you set on the `batch_size` argument must always be a multiple of 10!*\n",
    "\n",
    "sklearn will show a lot of annoying warnings so you can turn warnings off. (this is a known [issue](https://github.com/sdv-dev/SDV/issues/568))\n"
   ]
  },
  {
   "cell_type": "code",
   "execution_count": 6,
   "id": "70d4ec94",
   "metadata": {
    "execution": {
     "iopub.execute_input": "2021-08-27T10:26:47.209076Z",
     "iopub.status.busy": "2021-08-27T10:26:47.208330Z",
     "iopub.status.idle": "2021-08-27T10:26:47.212409Z",
     "shell.execute_reply": "2021-08-27T10:26:47.211867Z"
    },
    "papermill": {
     "duration": 0.060199,
     "end_time": "2021-08-27T10:26:47.212541",
     "exception": false,
     "start_time": "2021-08-27T10:26:47.152342",
     "status": "completed"
    },
    "tags": []
   },
   "outputs": [],
   "source": [
    "import warnings\n",
    "\n",
    "warnings.filterwarnings('ignore')"
   ]
  },
  {
   "cell_type": "code",
   "execution_count": 7,
   "id": "372f6f5c",
   "metadata": {
    "execution": {
     "iopub.execute_input": "2021-08-27T10:26:47.326170Z",
     "iopub.status.busy": "2021-08-27T10:26:47.325198Z",
     "iopub.status.idle": "2021-08-27T12:23:03.836561Z",
     "shell.execute_reply": "2021-08-27T12:23:03.837134Z"
    },
    "papermill": {
     "duration": 6976.571848,
     "end_time": "2021-08-27T12:23:03.837370",
     "exception": false,
     "start_time": "2021-08-27T10:26:47.265522",
     "status": "completed"
    },
    "tags": []
   },
   "outputs": [
    {
     "name": "stdout",
     "output_type": "stream",
     "text": [
      "Epoch 1, Loss G:  0.4254,Loss D:  0.1360\n",
      "Epoch 2, Loss G:  0.0822,Loss D:  0.0715\n",
      "Epoch 3, Loss G:  0.0389,Loss D: -0.1512\n",
      "Epoch 4, Loss G: -1.5512,Loss D: -0.0075\n",
      "Epoch 5, Loss G: -2.5391,Loss D:  0.1535\n",
      "Epoch 6, Loss G: -2.5878,Loss D:  0.0653\n",
      "Epoch 7, Loss G: -2.5074,Loss D: -0.0076\n",
      "Epoch 8, Loss G: -2.5953,Loss D:  0.1226\n",
      "Epoch 9, Loss G: -2.2228,Loss D: -0.0504\n",
      "Epoch 10, Loss G: -2.1559,Loss D:  0.0203\n",
      "Epoch 11, Loss G: -2.0703,Loss D:  0.1245\n",
      "Epoch 12, Loss G: -1.4796,Loss D: -0.0329\n",
      "Epoch 13, Loss G: -1.3505,Loss D: -0.3048\n",
      "Epoch 14, Loss G: -1.2220,Loss D: -0.1582\n",
      "Epoch 15, Loss G: -1.9242,Loss D:  0.1401\n",
      "Epoch 16, Loss G: -1.8132,Loss D: -0.0114\n",
      "Epoch 17, Loss G: -2.3175,Loss D: -0.0782\n",
      "Epoch 18, Loss G: -2.0519,Loss D: -0.0104\n",
      "Epoch 19, Loss G: -2.2142,Loss D:  0.0768\n",
      "Epoch 20, Loss G: -2.2829,Loss D:  0.0385\n",
      "Epoch 21, Loss G: -2.7418,Loss D:  0.0257\n",
      "Epoch 22, Loss G: -2.0307,Loss D:  0.0894\n",
      "Epoch 23, Loss G: -2.6447,Loss D:  0.0919\n",
      "Epoch 24, Loss G: -2.3864,Loss D:  0.0598\n",
      "Epoch 25, Loss G: -2.4301,Loss D: -0.0695\n",
      "Epoch 26, Loss G: -2.8448,Loss D:  0.0583\n",
      "Epoch 27, Loss G: -2.9784,Loss D:  0.0250\n",
      "Epoch 28, Loss G: -2.9395,Loss D: -0.0377\n",
      "Epoch 29, Loss G: -2.7589,Loss D:  0.0907\n",
      "Epoch 30, Loss G: -2.9049,Loss D:  0.0173\n",
      "Epoch 31, Loss G: -2.9368,Loss D: -0.0572\n",
      "Epoch 32, Loss G: -2.9969,Loss D: -0.0126\n",
      "Epoch 33, Loss G: -3.0511,Loss D: -0.0070\n",
      "Epoch 34, Loss G: -3.3673,Loss D:  0.0856\n",
      "Epoch 35, Loss G: -3.4054,Loss D:  0.0401\n",
      "Epoch 36, Loss G: -3.1710,Loss D:  0.0049\n",
      "Epoch 37, Loss G: -3.2401,Loss D:  0.0738\n",
      "Epoch 38, Loss G: -3.2859,Loss D: -0.0364\n",
      "Epoch 39, Loss G: -3.3598,Loss D: -0.0284\n",
      "Epoch 40, Loss G: -3.4067,Loss D:  0.0075\n",
      "Epoch 41, Loss G: -3.4068,Loss D:  0.0290\n",
      "Epoch 42, Loss G: -3.4417,Loss D: -0.0024\n",
      "Epoch 43, Loss G: -3.1873,Loss D:  0.0408\n",
      "Epoch 44, Loss G: -3.3858,Loss D:  0.0872\n",
      "Epoch 45, Loss G: -3.4792,Loss D:  0.0158\n",
      "Epoch 46, Loss G: -3.4125,Loss D:  0.0236\n",
      "Epoch 47, Loss G: -3.4637,Loss D:  0.0178\n",
      "Epoch 48, Loss G: -3.3676,Loss D: -0.0308\n",
      "Epoch 49, Loss G: -3.5371,Loss D:  0.0613\n",
      "Epoch 50, Loss G: -3.3937,Loss D:  0.0493\n",
      "Epoch 51, Loss G: -3.4825,Loss D:  0.0684\n",
      "Epoch 52, Loss G: -3.5191,Loss D:  0.0398\n",
      "Epoch 53, Loss G: -3.5657,Loss D:  0.0273\n",
      "Epoch 54, Loss G: -3.6638,Loss D:  0.0258\n",
      "Epoch 55, Loss G: -3.6733,Loss D:  0.0216\n",
      "Epoch 56, Loss G: -3.6272,Loss D:  0.0113\n",
      "Epoch 57, Loss G: -3.6836,Loss D:  0.0181\n",
      "Epoch 58, Loss G: -3.6210,Loss D:  0.0169\n",
      "Epoch 59, Loss G: -3.8273,Loss D: -0.0169\n",
      "Epoch 60, Loss G: -3.8598,Loss D:  0.0422\n",
      "Epoch 61, Loss G: -3.7315,Loss D: -0.0134\n",
      "Epoch 62, Loss G: -3.6689,Loss D:  0.0188\n",
      "Epoch 63, Loss G: -3.6993,Loss D:  0.0020\n",
      "Epoch 64, Loss G: -3.6541,Loss D:  0.0908\n",
      "Epoch 65, Loss G: -3.5654,Loss D: -0.0365\n",
      "Epoch 66, Loss G: -3.4466,Loss D:  0.0408\n",
      "Epoch 67, Loss G: -3.6609,Loss D: -0.0391\n",
      "Epoch 68, Loss G: -3.7850,Loss D:  0.0264\n",
      "Epoch 69, Loss G: -3.7834,Loss D:  0.1247\n",
      "Epoch 70, Loss G: -3.5568,Loss D:  0.0309\n",
      "Epoch 71, Loss G: -3.4082,Loss D:  0.0203\n",
      "Epoch 72, Loss G: -3.5503,Loss D:  0.0499\n",
      "Epoch 73, Loss G: -3.6937,Loss D:  0.0196\n",
      "Epoch 74, Loss G: -3.8450,Loss D: -0.0102\n",
      "Epoch 75, Loss G: -3.8378,Loss D:  0.0253\n",
      "Epoch 76, Loss G: -3.7231,Loss D:  0.0153\n",
      "Epoch 77, Loss G: -3.8443,Loss D:  0.0772\n",
      "Epoch 78, Loss G: -3.6556,Loss D:  0.0833\n",
      "Epoch 79, Loss G: -3.5664,Loss D: -0.0023\n",
      "Epoch 80, Loss G: -3.5485,Loss D:  0.0010\n",
      "Epoch 81, Loss G: -3.5343,Loss D:  0.0019\n",
      "Epoch 82, Loss G: -3.4744,Loss D:  0.0335\n",
      "Epoch 83, Loss G: -3.6835,Loss D: -0.0198\n",
      "Epoch 84, Loss G: -3.6689,Loss D: -0.0240\n",
      "Epoch 85, Loss G: -3.6946,Loss D: -0.0166\n",
      "Epoch 86, Loss G: -3.7182,Loss D: -0.0234\n",
      "Epoch 87, Loss G: -3.7078,Loss D: -0.0004\n",
      "Epoch 88, Loss G: -3.7918,Loss D: -0.0439\n",
      "Epoch 89, Loss G: -3.6590,Loss D:  0.0187\n",
      "Epoch 90, Loss G: -3.7879,Loss D: -0.0008\n",
      "Epoch 91, Loss G: -3.7047,Loss D: -0.0298\n",
      "Epoch 92, Loss G: -3.7239,Loss D: -0.0549\n",
      "Epoch 93, Loss G: -3.7841,Loss D:  0.0469\n",
      "Epoch 94, Loss G: -3.8120,Loss D:  0.0340\n",
      "Epoch 95, Loss G: -3.8755,Loss D:  0.0064\n",
      "Epoch 96, Loss G: -3.7722,Loss D:  0.0135\n",
      "Epoch 97, Loss G: -3.8216,Loss D:  0.0008\n",
      "Epoch 98, Loss G: -3.7349,Loss D:  0.0246\n",
      "Epoch 99, Loss G: -3.8234,Loss D:  0.0190\n",
      "Epoch 100, Loss G: -3.7672,Loss D:  0.0110\n"
     ]
    }
   ],
   "source": [
    "batch_size = 5000\n",
    "epochs = 100\n",
    "model = CTGAN(batch_size=batch_size, epochs=epochs, verbose=True)\n",
    "model.fit(train_df)"
   ]
  },
  {
   "cell_type": "markdown",
   "id": "2ad059d4",
   "metadata": {
    "papermill": {
     "duration": 0.082486,
     "end_time": "2021-08-27T12:23:04.005236",
     "exception": false,
     "start_time": "2021-08-27T12:23:03.922750",
     "status": "completed"
    },
    "tags": []
   },
   "source": [
    "Save your trained model to use later for generating new data."
   ]
  },
  {
   "cell_type": "code",
   "execution_count": 8,
   "id": "8ac70819",
   "metadata": {
    "execution": {
     "iopub.execute_input": "2021-08-27T12:23:04.176373Z",
     "iopub.status.busy": "2021-08-27T12:23:04.175401Z",
     "iopub.status.idle": "2021-08-27T12:23:06.223776Z",
     "shell.execute_reply": "2021-08-27T12:23:06.224330Z"
    },
    "papermill": {
     "duration": 2.136453,
     "end_time": "2021-08-27T12:23:06.224501",
     "exception": false,
     "start_time": "2021-08-27T12:23:04.088048",
     "status": "completed"
    },
    "tags": []
   },
   "outputs": [],
   "source": [
    "model.save('ctgan_30daysofml_model.pkl')"
   ]
  },
  {
   "cell_type": "markdown",
   "id": "6c00fdef",
   "metadata": {
    "papermill": {
     "duration": 0.08195,
     "end_time": "2021-08-27T12:23:06.389362",
     "exception": false,
     "start_time": "2021-08-27T12:23:06.307412",
     "status": "completed"
    },
    "tags": []
   },
   "source": [
    "Sample new data as follow:"
   ]
  },
  {
   "cell_type": "code",
   "execution_count": 9,
   "id": "733c9943",
   "metadata": {
    "execution": {
     "iopub.execute_input": "2021-08-27T12:23:06.560741Z",
     "iopub.status.busy": "2021-08-27T12:23:06.560114Z",
     "iopub.status.idle": "2021-08-27T12:23:06.880447Z",
     "shell.execute_reply": "2021-08-27T12:23:06.879781Z"
    },
    "papermill": {
     "duration": 0.40857,
     "end_time": "2021-08-27T12:23:06.880595",
     "exception": false,
     "start_time": "2021-08-27T12:23:06.472025",
     "status": "completed"
    },
    "tags": []
   },
   "outputs": [],
   "source": [
    "n_generated_data = 1000\n",
    "generated_df = model.sample(n_generated_data)"
   ]
  },
  {
   "cell_type": "markdown",
   "id": "1c2538f1",
   "metadata": {
    "papermill": {
     "duration": 0.083317,
     "end_time": "2021-08-27T12:23:07.046182",
     "exception": false,
     "start_time": "2021-08-27T12:23:06.962865",
     "status": "completed"
    },
    "tags": []
   },
   "source": [
    "Meassure similarity of generated data and the original ones."
   ]
  },
  {
   "cell_type": "code",
   "execution_count": 10,
   "id": "422b1866",
   "metadata": {
    "execution": {
     "iopub.execute_input": "2021-08-27T12:23:07.228939Z",
     "iopub.status.busy": "2021-08-27T12:23:07.220076Z",
     "iopub.status.idle": "2021-08-27T12:23:37.603482Z",
     "shell.execute_reply": "2021-08-27T12:23:37.604059Z"
    },
    "papermill": {
     "duration": 30.474332,
     "end_time": "2021-08-27T12:23:37.604278",
     "exception": false,
     "start_time": "2021-08-27T12:23:07.129946",
     "status": "completed"
    },
    "tags": []
   },
   "outputs": [
    {
     "data": {
      "text/plain": [
       "0.7594668143806097"
      ]
     },
     "execution_count": 10,
     "metadata": {},
     "output_type": "execute_result"
    }
   ],
   "source": [
    "score = evaluate(generated_df, train_df.sample(n_generated_data))\n",
    "score"
   ]
  }
 ],
 "metadata": {
  "kernelspec": {
   "display_name": "Python 3",
   "language": "python",
   "name": "python3"
  },
  "language_info": {
   "codemirror_mode": {
    "name": "ipython",
    "version": 3
   },
   "file_extension": ".py",
   "mimetype": "text/x-python",
   "name": "python",
   "nbconvert_exporter": "python",
   "pygments_lexer": "ipython3",
   "version": "3.7.10"
  },
  "papermill": {
   "default_parameters": {},
   "duration": 7078.542333,
   "end_time": "2021-08-27T12:23:39.139157",
   "environment_variables": {},
   "exception": null,
   "input_path": "__notebook__.ipynb",
   "output_path": "__notebook__.ipynb",
   "parameters": {},
   "start_time": "2021-08-27T10:25:40.596824",
   "version": "2.3.3"
  }
 },
 "nbformat": 4,
 "nbformat_minor": 5
}
