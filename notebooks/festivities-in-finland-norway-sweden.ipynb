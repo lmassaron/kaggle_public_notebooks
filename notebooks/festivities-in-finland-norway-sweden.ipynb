{
 "cells": [
  {
   "cell_type": "code",
   "execution_count": 1,
   "id": "95ae804b",
   "metadata": {
    "_cell_guid": "b1076dfc-b9ad-4769-8c92-a6c4dae69d19",
    "_uuid": "8f2839f25d086af736a60e9eeb907d3b93b6e0e5",
    "execution": {
     "iopub.execute_input": "2022-01-23T23:41:05.080260Z",
     "iopub.status.busy": "2022-01-23T23:41:05.079436Z",
     "iopub.status.idle": "2022-01-23T23:41:05.087870Z",
     "shell.execute_reply": "2022-01-23T23:41:05.087183Z",
     "shell.execute_reply.started": "2022-01-17T22:20:24.357821Z"
    },
    "papermill": {
     "duration": 0.022614,
     "end_time": "2022-01-23T23:41:05.088047",
     "exception": false,
     "start_time": "2022-01-23T23:41:05.065433",
     "status": "completed"
    },
    "tags": []
   },
   "outputs": [],
   "source": [
    "import numpy as np # linear algebra\n",
    "import pandas as pd # data processing, CSV file I/O (e.g. pd.read_csv)"
   ]
  },
  {
   "cell_type": "code",
   "execution_count": 2,
   "id": "e9f27321",
   "metadata": {
    "execution": {
     "iopub.execute_input": "2022-01-23T23:41:05.114045Z",
     "iopub.status.busy": "2022-01-23T23:41:05.113565Z",
     "iopub.status.idle": "2022-01-23T23:41:05.180671Z",
     "shell.execute_reply": "2022-01-23T23:41:05.181241Z",
     "shell.execute_reply.started": "2022-01-17T22:20:24.36735Z"
    },
    "papermill": {
     "duration": 0.082388,
     "end_time": "2022-01-23T23:41:05.181409",
     "exception": false,
     "start_time": "2022-01-23T23:41:05.099021",
     "status": "completed"
    },
    "tags": []
   },
   "outputs": [],
   "source": [
    "# Let's get the data\n",
    "train = pd.read_csv(\"../input/tabular-playground-series-jan-2022/train.csv\")\n",
    "test = pd.read_csv(\"../input/tabular-playground-series-jan-2022/test.csv\")"
   ]
  },
  {
   "cell_type": "code",
   "execution_count": 3,
   "id": "e312f6ba",
   "metadata": {
    "execution": {
     "iopub.execute_input": "2022-01-23T23:41:05.210885Z",
     "iopub.status.busy": "2022-01-23T23:41:05.210154Z",
     "iopub.status.idle": "2022-01-23T23:41:05.228071Z",
     "shell.execute_reply": "2022-01-23T23:41:05.227462Z",
     "shell.execute_reply.started": "2022-01-17T22:20:24.419662Z"
    },
    "papermill": {
     "duration": 0.036442,
     "end_time": "2022-01-23T23:41:05.228189",
     "exception": false,
     "start_time": "2022-01-23T23:41:05.191747",
     "status": "completed"
    },
    "tags": []
   },
   "outputs": [
    {
     "data": {
      "text/plain": [
       "array(['Finland', 'Norway', 'Sweden'], dtype=object)"
      ]
     },
     "execution_count": 3,
     "metadata": {},
     "output_type": "execute_result"
    }
   ],
   "source": [
    "# What countries?\n",
    "train.country.unique()"
   ]
  },
  {
   "cell_type": "code",
   "execution_count": 4,
   "id": "9ff292d3",
   "metadata": {
    "execution": {
     "iopub.execute_input": "2022-01-23T23:41:05.252238Z",
     "iopub.status.busy": "2022-01-23T23:41:05.251791Z",
     "iopub.status.idle": "2022-01-23T23:41:05.259994Z",
     "shell.execute_reply": "2022-01-23T23:41:05.259492Z",
     "shell.execute_reply.started": "2022-01-17T22:20:24.427728Z"
    },
    "papermill": {
     "duration": 0.021095,
     "end_time": "2022-01-23T23:41:05.260103",
     "exception": false,
     "start_time": "2022-01-23T23:41:05.239008",
     "status": "completed"
    },
    "tags": []
   },
   "outputs": [
    {
     "data": {
      "text/plain": [
       "array(['Finland', 'Norway', 'Sweden'], dtype=object)"
      ]
     },
     "execution_count": 4,
     "metadata": {},
     "output_type": "execute_result"
    }
   ],
   "source": [
    "# What about in test?\n",
    "test.country.unique()"
   ]
  },
  {
   "cell_type": "code",
   "execution_count": 5,
   "id": "856f1636",
   "metadata": {
    "execution": {
     "iopub.execute_input": "2022-01-23T23:41:05.289115Z",
     "iopub.status.busy": "2022-01-23T23:41:05.286438Z",
     "iopub.status.idle": "2022-01-23T23:41:05.291235Z",
     "shell.execute_reply": "2022-01-23T23:41:05.291672Z",
     "shell.execute_reply.started": "2022-01-17T22:20:24.446169Z"
    },
    "papermill": {
     "duration": 0.021187,
     "end_time": "2022-01-23T23:41:05.291812",
     "exception": false,
     "start_time": "2022-01-23T23:41:05.270625",
     "status": "completed"
    },
    "tags": []
   },
   "outputs": [
    {
     "data": {
      "text/plain": [
       "('2015-01-01', '2018-12-31')"
      ]
     },
     "execution_count": 5,
     "metadata": {},
     "output_type": "execute_result"
    }
   ],
   "source": [
    "# Train time frame\n",
    "train.date.min(), train.date.max()"
   ]
  },
  {
   "cell_type": "code",
   "execution_count": 6,
   "id": "97eb8ab6",
   "metadata": {
    "execution": {
     "iopub.execute_input": "2022-01-23T23:41:05.322587Z",
     "iopub.status.busy": "2022-01-23T23:41:05.315840Z",
     "iopub.status.idle": "2022-01-23T23:41:05.328027Z",
     "shell.execute_reply": "2022-01-23T23:41:05.327607Z",
     "shell.execute_reply.started": "2022-01-17T22:20:24.473526Z"
    },
    "papermill": {
     "duration": 0.025674,
     "end_time": "2022-01-23T23:41:05.328143",
     "exception": false,
     "start_time": "2022-01-23T23:41:05.302469",
     "status": "completed"
    },
    "tags": []
   },
   "outputs": [
    {
     "data": {
      "text/plain": [
       "('2019-01-01', '2019-12-31')"
      ]
     },
     "execution_count": 6,
     "metadata": {},
     "output_type": "execute_result"
    }
   ],
   "source": [
    "# Test time frame\n",
    "test.date.min(), test.date.max()"
   ]
  },
  {
   "cell_type": "markdown",
   "id": "e0dff654",
   "metadata": {
    "papermill": {
     "duration": 0.0105,
     "end_time": "2022-01-23T23:41:05.349895",
     "exception": false,
     "start_time": "2022-01-23T23:41:05.339395",
     "status": "completed"
    },
    "tags": []
   },
   "source": [
    "# Festivities\n",
    "\n",
    "Festivities in time series analysis are important. If the data is realistic they also should be important in this competition. Let's have a glance at how we can get them for the different countries."
   ]
  },
  {
   "cell_type": "code",
   "execution_count": 7,
   "id": "fcb303de",
   "metadata": {
    "execution": {
     "iopub.execute_input": "2022-01-23T23:41:05.377549Z",
     "iopub.status.busy": "2022-01-23T23:41:05.376894Z",
     "iopub.status.idle": "2022-01-23T23:41:05.379263Z",
     "shell.execute_reply": "2022-01-23T23:41:05.379651Z",
     "shell.execute_reply.started": "2022-01-17T22:20:24.490556Z"
    },
    "papermill": {
     "duration": 0.019128,
     "end_time": "2022-01-23T23:41:05.379805",
     "exception": false,
     "start_time": "2022-01-23T23:41:05.360677",
     "status": "completed"
    },
    "tags": []
   },
   "outputs": [],
   "source": [
    "holiday_list = list()"
   ]
  },
  {
   "cell_type": "code",
   "execution_count": 8,
   "id": "c18f3883",
   "metadata": {
    "execution": {
     "iopub.execute_input": "2022-01-23T23:41:05.409498Z",
     "iopub.status.busy": "2022-01-23T23:41:05.408843Z",
     "iopub.status.idle": "2022-01-23T23:41:05.590099Z",
     "shell.execute_reply": "2022-01-23T23:41:05.587989Z",
     "shell.execute_reply.started": "2022-01-17T22:20:24.504784Z"
    },
    "papermill": {
     "duration": 0.199018,
     "end_time": "2022-01-23T23:41:05.590271",
     "exception": false,
     "start_time": "2022-01-23T23:41:05.391253",
     "status": "completed"
    },
    "tags": []
   },
   "outputs": [
    {
     "name": "stdout",
     "output_type": "stream",
     "text": [
      "--- FINLAND ---\n",
      "2016-01-01 Uudenvuodenpäivä\n",
      "2016-01-06 Loppiainen\n",
      "2016-03-25 Pitkäperjantai\n",
      "2016-03-27 Pääsiäispäivä\n",
      "2016-03-28 2. pääsiäispäivä\n",
      "2016-05-01 Vappu\n",
      "2016-05-05 Helatorstai\n",
      "2016-05-15 Helluntaipäivä\n",
      "2016-06-25 Juhannuspäivä\n",
      "2016-11-05 Pyhäinpäivä\n",
      "2016-12-06 Itsenäisyyspäivä\n",
      "2016-12-25 Joulupäivä\n",
      "2016-12-26 Tapaninpäivä\n",
      "2016-06-24 Juhannusaatto\n",
      "2016-12-24 Jouluaatto\n",
      "2017-01-01 Uudenvuodenpäivä\n",
      "2017-01-06 Loppiainen\n",
      "2017-04-14 Pitkäperjantai\n",
      "2017-04-16 Pääsiäispäivä\n",
      "2017-04-17 2. pääsiäispäivä\n",
      "2017-05-01 Vappu\n",
      "2017-05-25 Helatorstai\n",
      "2017-06-04 Helluntaipäivä\n",
      "2017-06-24 Juhannuspäivä\n",
      "2017-11-04 Pyhäinpäivä\n",
      "2017-12-06 Itsenäisyyspäivä\n",
      "2017-12-25 Joulupäivä\n",
      "2017-12-26 Tapaninpäivä\n",
      "2017-06-23 Juhannusaatto\n",
      "2017-12-24 Jouluaatto\n",
      "2018-01-01 Uudenvuodenpäivä\n",
      "2018-01-06 Loppiainen\n",
      "2018-03-30 Pitkäperjantai\n",
      "2018-04-01 Pääsiäispäivä\n",
      "2018-04-02 2. pääsiäispäivä\n",
      "2018-05-01 Vappu\n",
      "2018-05-10 Helatorstai\n",
      "2018-05-20 Helluntaipäivä\n",
      "2018-06-23 Juhannuspäivä\n",
      "2018-11-03 Pyhäinpäivä\n",
      "2018-12-06 Itsenäisyyspäivä\n",
      "2018-12-25 Joulupäivä\n",
      "2018-12-26 Tapaninpäivä\n",
      "2018-06-22 Juhannusaatto\n",
      "2018-12-24 Jouluaatto\n",
      "2019-01-01 Uudenvuodenpäivä\n",
      "2019-01-06 Loppiainen\n",
      "2019-04-19 Pitkäperjantai\n",
      "2019-04-21 Pääsiäispäivä\n",
      "2019-04-22 2. pääsiäispäivä\n",
      "2019-05-01 Vappu\n",
      "2019-05-30 Helatorstai\n",
      "2019-06-09 Helluntaipäivä\n",
      "2019-06-22 Juhannuspäivä\n",
      "2019-11-02 Pyhäinpäivä\n",
      "2019-12-06 Itsenäisyyspäivä\n",
      "2019-12-25 Joulupäivä\n",
      "2019-12-26 Tapaninpäivä\n",
      "2019-06-21 Juhannusaatto\n",
      "2019-12-24 Jouluaatto\n",
      "2015-01-01 Uudenvuodenpäivä\n",
      "2015-01-06 Loppiainen\n",
      "2015-04-03 Pitkäperjantai\n",
      "2015-04-05 Pääsiäispäivä\n",
      "2015-04-06 2. pääsiäispäivä\n",
      "2015-05-01 Vappu\n",
      "2015-05-14 Helatorstai\n",
      "2015-05-24 Helluntaipäivä\n",
      "2015-06-20 Juhannuspäivä\n",
      "2015-10-31 Pyhäinpäivä\n",
      "2015-12-06 Itsenäisyyspäivä\n",
      "2015-12-25 Joulupäivä\n",
      "2015-12-26 Tapaninpäivä\n",
      "2015-06-19 Juhannusaatto\n",
      "2015-12-24 Jouluaatto\n"
     ]
    }
   ],
   "source": [
    "import holidays\n",
    "import dateutil.easter as easter\n",
    "\n",
    "print(\"--- FINLAND ---\")\n",
    "for date in holidays.Finland(years=[2015, 2016, 2017, 2018, 2019], observed=True).items():\n",
    "    print(str(date[0]), date[1])\n",
    "    holiday_list.append([date[0], date[1], \"Finland\"])"
   ]
  },
  {
   "cell_type": "code",
   "execution_count": 9,
   "id": "8837d9e0",
   "metadata": {
    "execution": {
     "iopub.execute_input": "2022-01-23T23:41:05.625188Z",
     "iopub.status.busy": "2022-01-23T23:41:05.624568Z",
     "iopub.status.idle": "2022-01-23T23:41:05.638452Z",
     "shell.execute_reply": "2022-01-23T23:41:05.637990Z",
     "shell.execute_reply.started": "2022-01-17T22:20:24.547136Z"
    },
    "papermill": {
     "duration": 0.03683,
     "end_time": "2022-01-23T23:41:05.638584",
     "exception": false,
     "start_time": "2022-01-23T23:41:05.601754",
     "status": "completed"
    },
    "tags": []
   },
   "outputs": [
    {
     "name": "stdout",
     "output_type": "stream",
     "text": [
      "--- NORWAY ---\n",
      "2016-01-01 Første nyttårsdag\n",
      "2016-05-01 Arbeidernes dag\n",
      "2016-05-17 Grunnlovsdag\n",
      "2016-12-25 Første juledag\n",
      "2016-12-26 Andre juledag\n",
      "2016-03-24 Skjærtorsdag\n",
      "2016-03-25 Langfredag\n",
      "2016-03-27 Første påskedag\n",
      "2016-03-28 Andre påskedag\n",
      "2016-05-05 Kristi himmelfartsdag\n",
      "2016-05-15 Første pinsedag\n",
      "2016-05-16 Andre pinsedag\n",
      "2017-01-01 Første nyttårsdag\n",
      "2017-05-01 Arbeidernes dag\n",
      "2017-05-17 Grunnlovsdag\n",
      "2017-12-25 Første juledag\n",
      "2017-12-26 Andre juledag\n",
      "2017-04-13 Skjærtorsdag\n",
      "2017-04-14 Langfredag\n",
      "2017-04-16 Første påskedag\n",
      "2017-04-17 Andre påskedag\n",
      "2017-05-25 Kristi himmelfartsdag\n",
      "2017-06-04 Første pinsedag\n",
      "2017-06-05 Andre pinsedag\n",
      "2018-01-01 Første nyttårsdag\n",
      "2018-05-01 Arbeidernes dag\n",
      "2018-05-17 Grunnlovsdag\n",
      "2018-12-25 Første juledag\n",
      "2018-12-26 Andre juledag\n",
      "2018-03-29 Skjærtorsdag\n",
      "2018-03-30 Langfredag\n",
      "2018-04-01 Første påskedag\n",
      "2018-04-02 Andre påskedag\n",
      "2018-05-10 Kristi himmelfartsdag\n",
      "2018-05-20 Første pinsedag\n",
      "2018-05-21 Andre pinsedag\n",
      "2019-01-01 Første nyttårsdag\n",
      "2019-05-01 Arbeidernes dag\n",
      "2019-05-17 Grunnlovsdag\n",
      "2019-12-25 Første juledag\n",
      "2019-12-26 Andre juledag\n",
      "2019-04-18 Skjærtorsdag\n",
      "2019-04-19 Langfredag\n",
      "2019-04-21 Første påskedag\n",
      "2019-04-22 Andre påskedag\n",
      "2019-05-30 Kristi himmelfartsdag\n",
      "2019-06-09 Første pinsedag\n",
      "2019-06-10 Andre pinsedag\n",
      "2015-01-01 Første nyttårsdag\n",
      "2015-05-01 Arbeidernes dag\n",
      "2015-05-17 Grunnlovsdag\n",
      "2015-12-25 Første juledag\n",
      "2015-12-26 Andre juledag\n",
      "2015-04-02 Skjærtorsdag\n",
      "2015-04-03 Langfredag\n",
      "2015-04-05 Første påskedag\n",
      "2015-04-06 Andre påskedag\n",
      "2015-05-14 Kristi himmelfartsdag\n",
      "2015-05-24 Første pinsedag\n",
      "2015-05-25 Andre pinsedag\n"
     ]
    }
   ],
   "source": [
    "print(\"--- NORWAY ---\")\n",
    "for date in holidays.Norway(years=[2015, 2016, 2017, 2018, 2019], observed=True).items():\n",
    "    print(str(date[0]), date[1])\n",
    "    holiday_list.append([date[0], date[1], \"Norway\"])"
   ]
  },
  {
   "cell_type": "code",
   "execution_count": 10,
   "id": "d33792b7",
   "metadata": {
    "execution": {
     "iopub.execute_input": "2022-01-23T23:41:05.671979Z",
     "iopub.status.busy": "2022-01-23T23:41:05.671393Z",
     "iopub.status.idle": "2022-01-23T23:41:05.694129Z",
     "shell.execute_reply": "2022-01-23T23:41:05.693738Z",
     "shell.execute_reply.started": "2022-01-17T22:20:24.566843Z"
    },
    "papermill": {
     "duration": 0.043428,
     "end_time": "2022-01-23T23:41:05.694251",
     "exception": false,
     "start_time": "2022-01-23T23:41:05.650823",
     "status": "completed"
    },
    "tags": []
   },
   "outputs": [
    {
     "name": "stdout",
     "output_type": "stream",
     "text": [
      "--- SWEDEN ---\n",
      "2016-03-27 Påskdagen\n",
      "2016-05-01 Första maj\n",
      "2016-05-15 Pingstdagen\n",
      "2016-12-25 Juldagen\n",
      "2016-01-01 Nyårsdagen\n",
      "2016-01-06 Trettondedag jul\n",
      "2016-06-06 Sveriges nationaldag\n",
      "2016-12-24 Julafton\n",
      "2016-12-26 Annandag jul\n",
      "2016-12-31 Nyårsafton\n",
      "2016-03-25 Långfredagen\n",
      "2016-03-28 Annandag påsk\n",
      "2016-05-05 Kristi himmelsfärdsdag\n",
      "2016-06-24 Midsommarafton\n",
      "2016-06-25 Midsommardagen\n",
      "2016-11-05 Alla helgons dag\n",
      "2017-01-01 Nyårsdagen\n",
      "2017-04-16 Påskdagen\n",
      "2017-06-04 Pingstdagen\n",
      "2017-12-24 Julafton\n",
      "2017-12-31 Nyårsafton\n",
      "2017-01-06 Trettondedag jul\n",
      "2017-05-01 Första maj\n",
      "2017-06-06 Sveriges nationaldag\n",
      "2017-12-25 Juldagen\n",
      "2017-12-26 Annandag jul\n",
      "2017-04-14 Långfredagen\n",
      "2017-04-17 Annandag påsk\n",
      "2017-05-25 Kristi himmelsfärdsdag\n",
      "2017-06-23 Midsommarafton\n",
      "2017-06-24 Midsommardagen\n",
      "2017-11-04 Alla helgons dag\n",
      "2018-04-01 Påskdagen\n",
      "2018-05-20 Pingstdagen\n",
      "2018-01-01 Nyårsdagen\n",
      "2018-01-06 Trettondedag jul\n",
      "2018-05-01 Första maj\n",
      "2018-06-06 Sveriges nationaldag\n",
      "2018-12-24 Julafton\n",
      "2018-12-25 Juldagen\n",
      "2018-12-26 Annandag jul\n",
      "2018-12-31 Nyårsafton\n",
      "2018-03-30 Långfredagen\n",
      "2018-04-02 Annandag påsk\n",
      "2018-05-10 Kristi himmelsfärdsdag\n",
      "2018-06-22 Midsommarafton\n",
      "2018-06-23 Midsommardagen\n",
      "2018-11-03 Alla helgons dag\n",
      "2019-01-06 Trettondedag jul\n",
      "2019-04-21 Påskdagen\n",
      "2019-06-09 Pingstdagen\n",
      "2019-01-01 Nyårsdagen\n",
      "2019-05-01 Första maj\n",
      "2019-06-06 Sveriges nationaldag\n",
      "2019-12-24 Julafton\n",
      "2019-12-25 Juldagen\n",
      "2019-12-26 Annandag jul\n",
      "2019-12-31 Nyårsafton\n",
      "2019-04-19 Långfredagen\n",
      "2019-04-22 Annandag påsk\n",
      "2019-05-30 Kristi himmelsfärdsdag\n",
      "2019-06-21 Midsommarafton\n",
      "2019-06-22 Midsommardagen\n",
      "2019-11-02 Alla helgons dag\n",
      "2015-04-05 Påskdagen\n",
      "2015-05-24 Pingstdagen\n",
      "2015-01-01 Nyårsdagen\n",
      "2015-01-06 Trettondedag jul\n",
      "2015-05-01 Första maj\n",
      "2015-06-06 Sveriges nationaldag\n",
      "2015-12-24 Julafton\n",
      "2015-12-25 Juldagen\n",
      "2015-12-26 Annandag jul\n",
      "2015-12-31 Nyårsafton\n",
      "2015-04-03 Långfredagen\n",
      "2015-04-06 Annandag påsk\n",
      "2015-05-14 Kristi himmelsfärdsdag\n",
      "2015-06-19 Midsommarafton\n",
      "2015-06-20 Midsommardagen\n",
      "2015-10-31 Alla helgons dag\n"
     ]
    }
   ],
   "source": [
    "print(\"--- SWEDEN ---\")\n",
    "for date in holidays.Sweden(years=[2015, 2016, 2017, 2018, 2019], observed=True).items():\n",
    "    if date[1]!='Söndag':\n",
    "        print(str(date[0]), date[1].replace(\", Söndag\", \"\"))\n",
    "        holiday_list.append([date[0], date[1].replace(\", Söndag\", \"\"), \"Sweden\"])"
   ]
  },
  {
   "cell_type": "markdown",
   "id": "617eeae2",
   "metadata": {
    "papermill": {
     "duration": 0.0119,
     "end_time": "2022-01-23T23:41:05.717998",
     "exception": false,
     "start_time": "2022-01-23T23:41:05.706098",
     "status": "completed"
    },
    "tags": []
   },
   "source": [
    "Let's add some special dates and events meaningful for the competition"
   ]
  },
  {
   "cell_type": "code",
   "execution_count": 11,
   "id": "6067c1fa",
   "metadata": {
    "execution": {
     "iopub.execute_input": "2022-01-23T23:41:05.760639Z",
     "iopub.status.busy": "2022-01-23T23:41:05.749693Z",
     "iopub.status.idle": "2022-01-23T23:41:05.780409Z",
     "shell.execute_reply": "2022-01-23T23:41:05.779946Z",
     "shell.execute_reply.started": "2022-01-17T22:20:24.604388Z"
    },
    "papermill": {
     "duration": 0.050887,
     "end_time": "2022-01-23T23:41:05.780522",
     "exception": false,
     "start_time": "2022-01-23T23:41:05.729635",
     "status": "completed"
    },
    "tags": []
   },
   "outputs": [],
   "source": [
    "# Last week of the year\n",
    "for year in [2015, 2016, 2017, 2018, 2019]:\n",
    "    for i, day in enumerate(range(24, 32)):\n",
    "        for country in ['Finland', 'Sweden', 'Norway']:\n",
    "             holiday_list.append([pd.to_datetime(f\"{year}-{12}-{day}\").date(), \n",
    "                                  f\"Last week of the year (day {i+1})\", \n",
    "                                  country])\n",
    "# Swedish Rock Concert\n",
    "for start, end, year in [[3,6,2015],[8,11,2016],[7,10,2017],[6,10,2018],[5,8,2019]]:\n",
    "    for i, day in enumerate(range(start, end+1)):\n",
    "        holiday_list.append([pd.to_datetime(f\"{year}-{6}-{day}\").date(), \n",
    "                                  f\"Swedish Rock Concert (day {i+1})\", \n",
    "                                  \"Sweden\"])\n",
    "        \n",
    "# Last Wednesday of June\n",
    "for date in ['2015-06-24', '2016-06-29', '2017-06-28', '2018-06-27', '2019-06-26']:\n",
    "    for country in ['Finland', 'Sweden', 'Norway']:\n",
    "         holiday_list.append([pd.to_datetime(date).date(), \n",
    "                                  f\"Last Wednesday of June\", \n",
    "                                  country])\n",
    "            \n",
    "# First Sunday of November\n",
    "for date in ['2015-11-1', '2016-11-6', '2017-11-5', '2018-11-4', '2019-11-3']:\n",
    "    for country in ['Finland', 'Sweden', 'Norway']:\n",
    "         holiday_list.append([pd.to_datetime(date).date(), \n",
    "                                  f\"First Sunday of November\", \n",
    "                                  country])\n",
    "            \n",
    "# Independence Day of Finland\n",
    "for year in [2015, 2016, 2017, 2018, 2019]:\n",
    "    holiday_list.append([pd.to_datetime(f\"{year}-{12}-{6}\").date(), \n",
    "                                      f\"Independence Day of Finland\", \n",
    "                                      'Finland'])\n",
    "\n",
    "# Easter\n",
    "easter_date = [easter.easter(y) for y in [2015, 2016, 2017, 2018, 2019]]\n",
    "for date in easter_date:\n",
    "    for country in ['Finland', 'Sweden', 'Norway']:\n",
    "         holiday_list.append([pd.to_datetime(date).date(), \n",
    "                                  f\"Easter\", \n",
    "                                  country])\n",
    "    "
   ]
  },
  {
   "cell_type": "markdown",
   "id": "f8f6af5d",
   "metadata": {
    "papermill": {
     "duration": 0.011933,
     "end_time": "2022-01-23T23:41:05.805167",
     "exception": false,
     "start_time": "2022-01-23T23:41:05.793234",
     "status": "completed"
    },
    "tags": []
   },
   "source": [
    "Finally, let's turn all the dates into a pandas DataFrame."
   ]
  },
  {
   "cell_type": "code",
   "execution_count": 12,
   "id": "fd052c30",
   "metadata": {
    "execution": {
     "iopub.execute_input": "2022-01-23T23:41:05.839261Z",
     "iopub.status.busy": "2022-01-23T23:41:05.838794Z",
     "iopub.status.idle": "2022-01-23T23:41:05.845352Z",
     "shell.execute_reply": "2022-01-23T23:41:05.844957Z",
     "shell.execute_reply.started": "2022-01-17T22:20:24.641569Z"
    },
    "papermill": {
     "duration": 0.028168,
     "end_time": "2022-01-23T23:41:05.845459",
     "exception": false,
     "start_time": "2022-01-23T23:41:05.817291",
     "status": "completed"
    },
    "tags": []
   },
   "outputs": [],
   "source": [
    "holidays_df = pd.DataFrame(holiday_list, columns=['date', 'holiday', 'country'])\n",
    "holidays_df = holidays_df.drop_duplicates(['date', 'country'], keep='first')\n",
    "holidays_df.to_csv(\"nordic_holidays.csv\")"
   ]
  },
  {
   "cell_type": "markdown",
   "id": "c3034eeb",
   "metadata": {
    "papermill": {
     "duration": 0.011578,
     "end_time": "2022-01-23T23:41:05.868967",
     "exception": false,
     "start_time": "2022-01-23T23:41:05.857389",
     "status": "completed"
    },
    "tags": []
   },
   "source": [
    "## Happy Kaggling!"
   ]
  }
 ],
 "metadata": {
  "kernelspec": {
   "display_name": "Python 3",
   "language": "python",
   "name": "python3"
  },
  "language_info": {
   "codemirror_mode": {
    "name": "ipython",
    "version": 3
   },
   "file_extension": ".py",
   "mimetype": "text/x-python",
   "name": "python",
   "nbconvert_exporter": "python",
   "pygments_lexer": "ipython3",
   "version": "3.7.12"
  },
  "papermill": {
   "default_parameters": {},
   "duration": 13.288297,
   "end_time": "2022-01-23T23:41:06.689758",
   "environment_variables": {},
   "exception": null,
   "input_path": "__notebook__.ipynb",
   "output_path": "__notebook__.ipynb",
   "parameters": {},
   "start_time": "2022-01-23T23:40:53.401461",
   "version": "2.3.3"
  }
 },
 "nbformat": 4,
 "nbformat_minor": 5
}
