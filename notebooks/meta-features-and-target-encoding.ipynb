{
 "cells": [
  {
   "cell_type": "code",
   "execution_count": 1,
   "id": "38802fa3",
   "metadata": {
    "execution": {
     "iopub.execute_input": "2022-02-20T23:30:37.722189Z",
     "iopub.status.busy": "2022-02-20T23:30:37.720970Z",
     "iopub.status.idle": "2022-02-20T23:30:38.715055Z",
     "shell.execute_reply": "2022-02-20T23:30:38.714302Z",
     "shell.execute_reply.started": "2022-02-20T23:24:46.723203Z"
    },
    "papermill": {
     "duration": 1.006109,
     "end_time": "2022-02-20T23:30:38.715227",
     "exception": false,
     "start_time": "2022-02-20T23:30:37.709118",
     "status": "completed"
    },
    "tags": []
   },
   "outputs": [],
   "source": [
    "import numpy as np\n",
    "import pandas as pd\n",
    "\n",
    "from sklearn.base import BaseEstimator, TransformerMixin\n",
    "\n",
    "class TargetEncode(BaseEstimator, TransformerMixin):\n",
    "    \n",
    "    def __init__(self, categories='auto', k=1, f=1, \n",
    "                 noise_level=0, random_state=None):\n",
    "        if type(categories)==str and categories!='auto':\n",
    "            self.categories = [categories]\n",
    "        else:\n",
    "            self.categories = categories\n",
    "        self.k = k\n",
    "        self.f = f\n",
    "        self.noise_level = noise_level\n",
    "        self.encodings = dict()\n",
    "        self.prior = None\n",
    "        self.random_state = random_state\n",
    "        \n",
    "    def add_noise(self, series, noise_level):\n",
    "        return series * (1 + noise_level *   \n",
    "                         np.random.randn(len(series)))\n",
    "        \n",
    "    def fit(self, X, y=None):\n",
    "        if type(self.categories)=='auto':\n",
    "            self.categories = np.where(X.dtypes == type(object()))[0]\n",
    "        \n",
    "        temp = X.loc[:, self.categories].copy()\n",
    "        temp['target'] = y\n",
    "        self.prior = np.mean(y)\n",
    "        for variable in self.categories:\n",
    "            avg = (temp.groupby(by=variable)['target']\n",
    "                       .agg(['mean', 'count']))\n",
    "            # Compute smoothing \n",
    "            smoothing = (1 / (1 + np.exp(-(avg['count'] - self.k) /                 \n",
    "                         self.f)))\n",
    "            # The bigger the count the less full_avg is accounted\n",
    "            self.encodings[variable] = dict(self.prior * (1 -  \n",
    "                             smoothing) + avg['mean'] * smoothing)\n",
    "            \n",
    "        return self\n",
    "    \n",
    "    def transform(self, X):\n",
    "        Xt = X.copy()\n",
    "        for variable in self.categories:\n",
    "            Xt[variable].replace(self.encodings[variable], \n",
    "                                 inplace=True)\n",
    "            unknown_value = {value:self.prior for value in \n",
    "                             X[variable].unique() \n",
    "                             if value not in \n",
    "                             self.encodings[variable].keys()}\n",
    "            if len(unknown_value) > 0:\n",
    "                Xt[variable].replace(unknown_value, inplace=True)\n",
    "            Xt[variable] = Xt[variable].astype(float)\n",
    "            if self.noise_level > 0:\n",
    "                if self.random_state is not None:\n",
    "                    np.random.seed(self.random_state)\n",
    "                Xt[variable] = self.add_noise(Xt[variable], \n",
    "                                              self.noise_level)\n",
    "        return Xt\n",
    "    \n",
    "    def fit_transform(self, X, y=None):\n",
    "        self.fit(X, y)\n",
    "        return self.transform(X)\n"
   ]
  },
  {
   "cell_type": "code",
   "execution_count": 2,
   "id": "9bfe0ab1",
   "metadata": {
    "execution": {
     "iopub.execute_input": "2022-02-20T23:30:38.734394Z",
     "iopub.status.busy": "2022-02-20T23:30:38.733741Z",
     "iopub.status.idle": "2022-02-20T23:30:38.813020Z",
     "shell.execute_reply": "2022-02-20T23:30:38.813537Z",
     "shell.execute_reply.started": "2022-02-20T22:46:21.940209Z"
    },
    "papermill": {
     "duration": 0.091124,
     "end_time": "2022-02-20T23:30:38.813739",
     "exception": false,
     "start_time": "2022-02-20T23:30:38.722615",
     "status": "completed"
    },
    "tags": []
   },
   "outputs": [],
   "source": [
    "train = pd.read_csv(\"../input/amazon-employee-access-challenge/train.csv\")"
   ]
  },
  {
   "cell_type": "code",
   "execution_count": 3,
   "id": "18449c17",
   "metadata": {
    "execution": {
     "iopub.execute_input": "2022-02-20T23:30:38.830029Z",
     "iopub.status.busy": "2022-02-20T23:30:38.829379Z",
     "iopub.status.idle": "2022-02-20T23:30:39.052284Z",
     "shell.execute_reply": "2022-02-20T23:30:39.052794Z"
    },
    "papermill": {
     "duration": 0.232567,
     "end_time": "2022-02-20T23:30:39.052962",
     "exception": false,
     "start_time": "2022-02-20T23:30:38.820395",
     "status": "completed"
    },
    "tags": []
   },
   "outputs": [
    {
     "data": {
      "text/plain": [
       "0        3583\n",
       "1          81\n",
       "2        1256\n",
       "3        4649\n",
       "4          75\n",
       "         ... \n",
       "32764    4649\n",
       "32765      24\n",
       "32766       3\n",
       "32767     394\n",
       "32768    1043\n",
       "Name: ROLE_TITLE, Length: 32769, dtype: int64"
      ]
     },
     "execution_count": 3,
     "metadata": {},
     "output_type": "execute_result"
    }
   ],
   "source": [
    "# Frequency count of a feature\n",
    "feature_counts = train.groupby('ROLE_TITLE').size()\n",
    "train['ROLE_TITLE'].apply(lambda x: feature_counts[x])"
   ]
  },
  {
   "cell_type": "code",
   "execution_count": 4,
   "id": "c4984ecd",
   "metadata": {
    "execution": {
     "iopub.execute_input": "2022-02-20T23:30:39.071027Z",
     "iopub.status.busy": "2022-02-20T23:30:39.070342Z",
     "iopub.status.idle": "2022-02-20T23:30:45.288303Z",
     "shell.execute_reply": "2022-02-20T23:30:45.287782Z",
     "shell.execute_reply.started": "2022-02-20T23:02:24.144191Z"
    },
    "papermill": {
     "duration": 6.228153,
     "end_time": "2022-02-20T23:30:45.288448",
     "exception": false,
     "start_time": "2022-02-20T23:30:39.060295",
     "status": "completed"
    },
    "tags": []
   },
   "outputs": [
    {
     "data": {
      "text/plain": [
       "0         22\n",
       "1          5\n",
       "2        184\n",
       "3        100\n",
       "4          6\n",
       "        ... \n",
       "32764    100\n",
       "32765      3\n",
       "32766      3\n",
       "32767    226\n",
       "32768    307\n",
       "Length: 32769, dtype: int64"
      ]
     },
     "execution_count": 4,
     "metadata": {},
     "output_type": "execute_result"
    }
   ],
   "source": [
    "# Frequency count of a feature grouped by another feature\n",
    "feature_counts = train.groupby(['ROLE_DEPTNAME', 'ROLE_TITLE']).size()\n",
    "train[['ROLE_DEPTNAME', 'ROLE_TITLE']].apply(lambda x: feature_counts[x[0]][x[1]], axis=1)"
   ]
  },
  {
   "cell_type": "code",
   "execution_count": 5,
   "id": "0dee039f",
   "metadata": {
    "execution": {
     "iopub.execute_input": "2022-02-20T23:30:45.311741Z",
     "iopub.status.busy": "2022-02-20T23:30:45.310695Z",
     "iopub.status.idle": "2022-02-20T23:30:45.381134Z",
     "shell.execute_reply": "2022-02-20T23:30:45.381700Z",
     "shell.execute_reply.started": "2022-02-20T23:29:33.394694Z"
    },
    "papermill": {
     "duration": 0.085697,
     "end_time": "2022-02-20T23:30:45.381892",
     "exception": false,
     "start_time": "2022-02-20T23:30:45.296195",
     "status": "completed"
    },
    "tags": []
   },
   "outputs": [
    {
     "data": {
      "text/html": [
       "<div>\n",
       "<style scoped>\n",
       "    .dataframe tbody tr th:only-of-type {\n",
       "        vertical-align: middle;\n",
       "    }\n",
       "\n",
       "    .dataframe tbody tr th {\n",
       "        vertical-align: top;\n",
       "    }\n",
       "\n",
       "    .dataframe thead th {\n",
       "        text-align: right;\n",
       "    }\n",
       "</style>\n",
       "<table border=\"1\" class=\"dataframe\">\n",
       "  <thead>\n",
       "    <tr style=\"text-align: right;\">\n",
       "      <th></th>\n",
       "      <th>ROLE_TITLE</th>\n",
       "    </tr>\n",
       "  </thead>\n",
       "  <tbody>\n",
       "    <tr>\n",
       "      <th>0</th>\n",
       "      <td>0.967625</td>\n",
       "    </tr>\n",
       "    <tr>\n",
       "      <th>1</th>\n",
       "      <td>0.962963</td>\n",
       "    </tr>\n",
       "    <tr>\n",
       "      <th>2</th>\n",
       "      <td>0.889331</td>\n",
       "    </tr>\n",
       "    <tr>\n",
       "      <th>3</th>\n",
       "      <td>0.920413</td>\n",
       "    </tr>\n",
       "    <tr>\n",
       "      <th>4</th>\n",
       "      <td>0.866667</td>\n",
       "    </tr>\n",
       "    <tr>\n",
       "      <th>...</th>\n",
       "      <td>...</td>\n",
       "    </tr>\n",
       "    <tr>\n",
       "      <th>32764</th>\n",
       "      <td>0.920413</td>\n",
       "    </tr>\n",
       "    <tr>\n",
       "      <th>32765</th>\n",
       "      <td>1.000000</td>\n",
       "    </tr>\n",
       "    <tr>\n",
       "      <th>32766</th>\n",
       "      <td>0.993099</td>\n",
       "    </tr>\n",
       "    <tr>\n",
       "      <th>32767</th>\n",
       "      <td>0.913706</td>\n",
       "    </tr>\n",
       "    <tr>\n",
       "      <th>32768</th>\n",
       "      <td>0.925216</td>\n",
       "    </tr>\n",
       "  </tbody>\n",
       "</table>\n",
       "<p>32769 rows × 1 columns</p>\n",
       "</div>"
      ],
      "text/plain": [
       "       ROLE_TITLE\n",
       "0        0.967625\n",
       "1        0.962963\n",
       "2        0.889331\n",
       "3        0.920413\n",
       "4        0.866667\n",
       "...           ...\n",
       "32764    0.920413\n",
       "32765    1.000000\n",
       "32766    0.993099\n",
       "32767    0.913706\n",
       "32768    0.925216\n",
       "\n",
       "[32769 rows x 1 columns]"
      ]
     },
     "execution_count": 5,
     "metadata": {},
     "output_type": "execute_result"
    }
   ],
   "source": [
    "te = TargetEncode(categories='ROLE_TITLE')\n",
    "te.fit(train, train['ACTION'])\n",
    "te.transform(train[['ROLE_TITLE']])"
   ]
  }
 ],
 "metadata": {
  "kernelspec": {
   "display_name": "Python 3",
   "language": "python",
   "name": "python3"
  },
  "language_info": {
   "codemirror_mode": {
    "name": "ipython",
    "version": 3
   },
   "file_extension": ".py",
   "mimetype": "text/x-python",
   "name": "python",
   "nbconvert_exporter": "python",
   "pygments_lexer": "ipython3",
   "version": "3.7.12"
  },
  "papermill": {
   "default_parameters": {},
   "duration": 18.174666,
   "end_time": "2022-02-20T23:30:46.100597",
   "environment_variables": {},
   "exception": null,
   "input_path": "__notebook__.ipynb",
   "output_path": "__notebook__.ipynb",
   "parameters": {},
   "start_time": "2022-02-20T23:30:27.925931",
   "version": "2.3.3"
  }
 },
 "nbformat": 4,
 "nbformat_minor": 5
}
