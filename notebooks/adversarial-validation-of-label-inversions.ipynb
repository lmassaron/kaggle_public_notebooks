{
 "cells": [
  {
   "cell_type": "code",
   "execution_count": 1,
   "id": "8009b955",
   "metadata": {
    "execution": {
     "iopub.execute_input": "2021-11-18T14:34:58.755636Z",
     "iopub.status.busy": "2021-11-18T14:34:58.754320Z",
     "iopub.status.idle": "2021-11-18T14:35:00.056415Z",
     "shell.execute_reply": "2021-11-18T14:35:00.055475Z",
     "shell.execute_reply.started": "2021-11-18T14:29:05.843979Z"
    },
    "papermill": {
     "duration": 1.320397,
     "end_time": "2021-11-18T14:35:00.056614",
     "exception": false,
     "start_time": "2021-11-18T14:34:58.736217",
     "status": "completed"
    },
    "tags": []
   },
   "outputs": [],
   "source": [
    "import pandas as pd\n",
    "import numpy as np\n",
    "from matplotlib import pyplot as plt\n",
    "\n",
    "from sklearn.ensemble import RandomForestClassifier\n",
    "from sklearn.model_selection import cross_val_predict\n",
    "from sklearn.model_selection import StratifiedKFold\n",
    "from sklearn.metrics import roc_auc_score"
   ]
  },
  {
   "cell_type": "markdown",
   "id": "1440c6ea",
   "metadata": {
    "papermill": {
     "duration": 0.012924,
     "end_time": "2021-11-18T14:35:00.084159",
     "exception": false,
     "start_time": "2021-11-18T14:35:00.071235",
     "status": "completed"
    },
    "tags": []
   },
   "source": [
    "https://www.kaggle.com/criskiev has recently published the original data that has been removed at the early stages of the competition. This calls for a check if we can predict the switched labels with a model and manage to break through the 0.75 roc auc score in test (without relying on sheer luck)."
   ]
  },
  {
   "cell_type": "code",
   "execution_count": 2,
   "id": "398cda09",
   "metadata": {
    "execution": {
     "iopub.execute_input": "2021-11-18T14:35:00.115383Z",
     "iopub.status.busy": "2021-11-18T14:35:00.114579Z",
     "iopub.status.idle": "2021-11-18T14:35:33.605992Z",
     "shell.execute_reply": "2021-11-18T14:35:33.605197Z",
     "shell.execute_reply.started": "2021-11-18T14:04:37.138986Z"
    },
    "papermill": {
     "duration": 33.509758,
     "end_time": "2021-11-18T14:35:33.606165",
     "exception": false,
     "start_time": "2021-11-18T14:35:00.096407",
     "status": "completed"
    },
    "tags": []
   },
   "outputs": [],
   "source": [
    "train = pd.read_csv(\"../input/tabular-playground-series-nov-2021/train.csv\")\n",
    "original = pd.read_csv(\"../input/november21/train.csv\")"
   ]
  },
  {
   "cell_type": "markdown",
   "id": "8f0b6dcf",
   "metadata": {
    "papermill": {
     "duration": 0.012356,
     "end_time": "2021-11-18T14:35:33.630603",
     "exception": false,
     "start_time": "2021-11-18T14:35:33.618247",
     "status": "completed"
    },
    "tags": []
   },
   "source": [
    "Is the data different from the originally posted one? the answer is no.\n",
    "So it means that we just concentrate on the labels."
   ]
  },
  {
   "cell_type": "code",
   "execution_count": 3,
   "id": "0e9976a7",
   "metadata": {
    "execution": {
     "iopub.execute_input": "2021-11-18T14:35:33.666514Z",
     "iopub.status.busy": "2021-11-18T14:35:33.665586Z",
     "iopub.status.idle": "2021-11-18T14:35:34.646065Z",
     "shell.execute_reply": "2021-11-18T14:35:34.645412Z",
     "shell.execute_reply.started": "2021-11-18T14:05:08.813200Z"
    },
    "papermill": {
     "duration": 1.003703,
     "end_time": "2021-11-18T14:35:34.646213",
     "exception": false,
     "start_time": "2021-11-18T14:35:33.642510",
     "status": "completed"
    },
    "tags": []
   },
   "outputs": [
    {
     "data": {
      "text/plain": [
       "0.0"
      ]
     },
     "execution_count": 3,
     "metadata": {},
     "output_type": "execute_result"
    }
   ],
   "source": [
    "(original.drop(['id', 'target'], axis=1).values - train.drop(['id', 'target'], axis=1).values).mean()"
   ]
  },
  {
   "cell_type": "code",
   "execution_count": 4,
   "id": "6c1a8e08",
   "metadata": {
    "execution": {
     "iopub.execute_input": "2021-11-18T14:35:34.681749Z",
     "iopub.status.busy": "2021-11-18T14:35:34.681032Z",
     "iopub.status.idle": "2021-11-18T14:35:34.929898Z",
     "shell.execute_reply": "2021-11-18T14:35:34.929319Z",
     "shell.execute_reply.started": "2021-11-18T14:05:09.451092Z"
    },
    "papermill": {
     "duration": 0.270693,
     "end_time": "2021-11-18T14:35:34.930059",
     "exception": false,
     "start_time": "2021-11-18T14:35:34.659366",
     "status": "completed"
    },
    "tags": []
   },
   "outputs": [],
   "source": [
    "y = (train.target != original.target).astype(int)\n",
    "X = train.drop(['target'], axis='columns')"
   ]
  },
  {
   "cell_type": "markdown",
   "id": "8d92701c",
   "metadata": {
    "papermill": {
     "duration": 0.011764,
     "end_time": "2021-11-18T14:35:34.953983",
     "exception": false,
     "start_time": "2021-11-18T14:35:34.942219",
     "status": "completed"
    },
    "tags": []
   },
   "source": [
    "If we check the standard deviation of the switching rate, based on the ids, we notice that it is very low, compatible with a random choice of the elements."
   ]
  },
  {
   "cell_type": "code",
   "execution_count": 5,
   "id": "f9738883",
   "metadata": {
    "execution": {
     "iopub.execute_input": "2021-11-18T14:35:34.985132Z",
     "iopub.status.busy": "2021-11-18T14:35:34.984481Z",
     "iopub.status.idle": "2021-11-18T14:35:35.043301Z",
     "shell.execute_reply": "2021-11-18T14:35:35.043838Z",
     "shell.execute_reply.started": "2021-11-18T14:26:42.334122Z"
    },
    "papermill": {
     "duration": 0.077993,
     "end_time": "2021-11-18T14:35:35.044061",
     "exception": false,
     "start_time": "2021-11-18T14:35:34.966068",
     "status": "completed"
    },
    "tags": []
   },
   "outputs": [
    {
     "data": {
      "text/plain": [
       "0.01026004485271269"
      ]
     },
     "execution_count": 5,
     "metadata": {},
     "output_type": "execute_result"
    }
   ],
   "source": [
    "binning = pd.qcut(X['id'], q=200, labels=False)\n",
    "(train.target != original.target).groupby(binning).mean().std()"
   ]
  },
  {
   "cell_type": "markdown",
   "id": "ab1f4d34",
   "metadata": {
    "papermill": {
     "duration": 0.012589,
     "end_time": "2021-11-18T14:35:35.069472",
     "exception": false,
     "start_time": "2021-11-18T14:35:35.056883",
     "status": "completed"
    },
    "tags": []
   },
   "source": [
    "Also if we plot the values, we can see that the oscillations are limited and clearly not following a clear trend."
   ]
  },
  {
   "cell_type": "code",
   "execution_count": 6,
   "id": "14d77ec1",
   "metadata": {
    "execution": {
     "iopub.execute_input": "2021-11-18T14:35:35.101557Z",
     "iopub.status.busy": "2021-11-18T14:35:35.100713Z",
     "iopub.status.idle": "2021-11-18T14:35:35.395248Z",
     "shell.execute_reply": "2021-11-18T14:35:35.395836Z",
     "shell.execute_reply.started": "2021-11-18T14:26:48.417611Z"
    },
    "papermill": {
     "duration": 0.313732,
     "end_time": "2021-11-18T14:35:35.396132",
     "exception": false,
     "start_time": "2021-11-18T14:35:35.082400",
     "status": "completed"
    },
    "tags": []
   },
   "outputs": [
    {
     "data": {
      "image/png": "[encoded data removed]",
      "text/plain": [
       "<Figure size 432x288 with 1 Axes>"
      ]
     },
     "metadata": {
      "needs_background": "light"
     },
     "output_type": "display_data"
    }
   ],
   "source": [
    "(train.target != original.target).groupby(binning).mean().plot()\n",
    "plt.show()"
   ]
  },
  {
   "cell_type": "markdown",
   "id": "d35c988c",
   "metadata": {
    "papermill": {
     "duration": 0.013692,
     "end_time": "2021-11-18T14:35:35.423910",
     "exception": false,
     "start_time": "2021-11-18T14:35:35.410218",
     "status": "completed"
    },
    "tags": []
   },
   "source": [
    "As a reminder, we see that actually the id is correlated with the original target because different numeration arcs present different expected probability of positives (use the id as a predictor in your models)."
   ]
  },
  {
   "cell_type": "code",
   "execution_count": 7,
   "id": "84b1a07e",
   "metadata": {
    "execution": {
     "iopub.execute_input": "2021-11-18T14:35:35.459599Z",
     "iopub.status.busy": "2021-11-18T14:35:35.458507Z",
     "iopub.status.idle": "2021-11-18T14:35:35.689602Z",
     "shell.execute_reply": "2021-11-18T14:35:35.688676Z",
     "shell.execute_reply.started": "2021-11-18T14:33:25.359451Z"
    },
    "papermill": {
     "duration": 0.251635,
     "end_time": "2021-11-18T14:35:35.689771",
     "exception": false,
     "start_time": "2021-11-18T14:35:35.438136",
     "status": "completed"
    },
    "tags": []
   },
   "outputs": [
    {
     "data": {
      "image/png": "[encoded data removed]",
      "text/plain": [
       "<Figure size 432x288 with 1 Axes>"
      ]
     },
     "metadata": {
      "needs_background": "light"
     },
     "output_type": "display_data"
    }
   ],
   "source": [
    "original.target.groupby(binning).mean().plot()\n",
    "plt.show()"
   ]
  },
  {
   "cell_type": "markdown",
   "id": "1a462a75",
   "metadata": {
    "papermill": {
     "duration": 0.01483,
     "end_time": "2021-11-18T14:35:35.720068",
     "exception": false,
     "start_time": "2021-11-18T14:35:35.705238",
     "status": "completed"
    },
    "tags": []
   },
   "source": [
    "It is left just to try adversarial validation and see if there is any hint for guessing correctly the switched "
   ]
  },
  {
   "cell_type": "code",
   "execution_count": 8,
   "id": "928db63b",
   "metadata": {
    "execution": {
     "iopub.execute_input": "2021-11-18T14:35:35.758541Z",
     "iopub.status.busy": "2021-11-18T14:35:35.757460Z",
     "iopub.status.idle": "2021-11-18T17:09:11.862358Z",
     "shell.execute_reply": "2021-11-18T17:09:11.861583Z",
     "shell.execute_reply.started": "2021-11-18T14:22:05.089785Z"
    },
    "papermill": {
     "duration": 9216.127675,
     "end_time": "2021-11-18T17:09:11.862572",
     "exception": false,
     "start_time": "2021-11-18T14:35:35.734897",
     "status": "completed"
    },
    "tags": []
   },
   "outputs": [],
   "source": [
    "model = RandomForestClassifier()\n",
    "cv_preds = cross_val_predict(model, X, y, \n",
    "                             cv=StratifiedKFold(n_splits=10, shuffle=True, random_state=0), \n",
    "                             n_jobs=-1, method='predict_proba')"
   ]
  },
  {
   "cell_type": "code",
   "execution_count": 9,
   "id": "f32665a7",
   "metadata": {
    "execution": {
     "iopub.execute_input": "2021-11-18T17:09:11.905084Z",
     "iopub.status.busy": "2021-11-18T17:09:11.903685Z",
     "iopub.status.idle": "2021-11-18T17:09:12.117022Z",
     "shell.execute_reply": "2021-11-18T17:09:12.117572Z",
     "shell.execute_reply.started": "2021-11-18T14:09:10.884860Z"
    },
    "papermill": {
     "duration": 0.237932,
     "end_time": "2021-11-18T17:09:12.117790",
     "exception": false,
     "start_time": "2021-11-18T17:09:11.879858",
     "status": "completed"
    },
    "tags": []
   },
   "outputs": [
    {
     "name": "stdout",
     "output_type": "stream",
     "text": [
      "0.5023518094952447\n"
     ]
    }
   ],
   "source": [
    "print(roc_auc_score(y_true=y, y_score=cv_preds[:,1]))"
   ]
  },
  {
   "cell_type": "markdown",
   "id": "6da0fbe1",
   "metadata": {
    "papermill": {
     "duration": 0.015295,
     "end_time": "2021-11-18T17:09:12.148686",
     "exception": false,
     "start_time": "2021-11-18T17:09:12.133391",
     "status": "completed"
    },
    "tags": []
   },
   "source": [
    "Unfortunately the label inversions look unpredictable. We cannot but try to incorporate this uncertainty in our models."
   ]
  }
 ],
 "metadata": {
  "kernelspec": {
   "display_name": "Python 3",
   "language": "python",
   "name": "python3"
  },
  "language_info": {
   "codemirror_mode": {
    "name": "ipython",
    "version": 3
   },
   "file_extension": ".py",
   "mimetype": "text/x-python",
   "name": "python",
   "nbconvert_exporter": "python",
   "pygments_lexer": "ipython3",
   "version": "3.7.10"
  },
  "papermill": {
   "default_parameters": {},
   "duration": 9265.258342,
   "end_time": "2021-11-18T17:09:13.710511",
   "environment_variables": {},
   "exception": null,
   "input_path": "__notebook__.ipynb",
   "output_path": "__notebook__.ipynb",
   "parameters": {},
   "start_time": "2021-11-18T14:34:48.452169",
   "version": "2.3.3"
  }
 },
 "nbformat": 4,
 "nbformat_minor": 5
}
